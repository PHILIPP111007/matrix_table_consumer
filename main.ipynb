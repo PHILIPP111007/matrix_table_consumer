{
 "cells": [
  {
   "cell_type": "markdown",
   "id": "80b1d43e",
   "metadata": {},
   "source": [
    "#####################################################\n",
    "\n",
    "#### To compile Go modules with C types to work with Python run:\n",
    "#### go build -o main.so -buildmode=c-shared main.go\n",
    "\n",
    "#####################################################"
   ]
  },
  {
   "cell_type": "code",
   "execution_count": null,
   "id": "26c824ba",
   "metadata": {},
   "outputs": [],
   "source": [
    "import os\n",
    "import sys\n",
    "\n",
    "import hail as hl\n",
    "import pyspark\n",
    "\n",
    "\n",
    "hail_jars = os.path.join(\n",
    "    os.sep.join(sys.executable.split(os.sep)[:6]),\n",
    "    \"lib\",\n",
    "    f\"python{sys.version_info.major}.{sys.version_info.minor}\",\n",
    "    \"site-packages\",\n",
    "    \"hail\",\n",
    "    \"backend\",\n",
    "    \"hail-all-spark.jar\",\n",
    ")\n",
    "\n",
    "CONF = pyspark.SparkConf().setAll(\n",
    "    [\n",
    "        (\"spark.master\", f\"local[{20}]\"),\n",
    "        (\"spark.app.name\", \"Hail_demonstration\"),\n",
    "        (\"spark.jars\", hail_jars),\n",
    "        (\"spark.driver.extraClassPath\", hail_jars),\n",
    "        (\"spark.driver.memory\", \"30g\"),\n",
    "        (\"spark.executor.extraClassPath\", \"./hail-all-spark.jar\"),\n",
    "        (\"spark.serializer\", \"org.apache.spark.serializer.KryoSerializer\"),\n",
    "        (\"spark.kryo.registrator\", \"is.hail.kryo.HailKryoRegistrator\"),\n",
    "    ]\n",
    ")\n",
    "\n",
    "sc = pyspark.SparkContext(conf=CONF)\n",
    "\n",
    "hl.init(default_reference=\"GRCh38\", sc=sc)"
   ]
  },
  {
   "cell_type": "code",
   "execution_count": null,
   "id": "7b05946c",
   "metadata": {},
   "outputs": [],
   "source": [
    "from matrix_table_consumer import MatrixTableConsumer, NUM_CPU"
   ]
  },
  {
   "cell_type": "code",
   "execution_count": null,
   "id": "8e5ced2a",
   "metadata": {},
   "outputs": [],
   "source": [
    "# Downloaded from https://ftp.1000genomes.ebi.ac.uk/vol1/ftp/release/20130502/\n",
    "\n",
    "vcf_big_path = \"./data/ALL.chr1.phase3_shapeit2_mvncall_integrated_v5b.20130502.genotypes.vcf.gz\"  # GRCh37\n",
    "vcf_mini_path = \"./data/test1.vcf\"  # GRCh38\n",
    "\n",
    "matrix_table_path = \"./data/matrix_table.mt\"\n",
    "json_path = \"./data/matrix.json\""
   ]
  },
  {
   "cell_type": "code",
   "execution_count": null,
   "id": "8b98c039",
   "metadata": {},
   "outputs": [
    {
     "data": {
      "text/html": [
       "<table><thead><tr><td style=\"white-space: nowrap; max-width: 500px; overflow: hidden; text-overflow: ellipsis; \" colspan=\"1\"><div style=\"text-align: left;\"></div></td><td style=\"white-space: nowrap; max-width: 500px; overflow: hidden; text-overflow: ellipsis; \" colspan=\"1\"><div style=\"text-align: left;\"></div></td><td style=\"white-space: nowrap; max-width: 500px; overflow: hidden; text-overflow: ellipsis; \" colspan=\"1\"><div style=\"text-align: left;\"></div></td></tr><tr><td style=\"white-space: nowrap; max-width: 500px; overflow: hidden; text-overflow: ellipsis; \" colspan=\"1\"><div style=\"text-align: left;\"></div></td><td style=\"white-space: nowrap; max-width: 500px; overflow: hidden; text-overflow: ellipsis; \" colspan=\"1\"><div style=\"text-align: left;\"></div></td><td style=\"white-space: nowrap; max-width: 500px; overflow: hidden; text-overflow: ellipsis; \" colspan=\"1\"><div style=\"text-align: left;border-bottom: solid 2px #000; padding-bottom: 5px\">&#x27;tumor&#x27;</div></td></tr><tr><td style=\"white-space: nowrap; max-width: 500px; overflow: hidden; text-overflow: ellipsis; \" colspan=\"1\"><div style=\"text-align: left;border-bottom: solid 2px #000; padding-bottom: 5px\">locus</div></td><td style=\"white-space: nowrap; max-width: 500px; overflow: hidden; text-overflow: ellipsis; \" colspan=\"1\"><div style=\"text-align: left;border-bottom: solid 2px #000; padding-bottom: 5px\">alleles</div></td><td style=\"white-space: nowrap; max-width: 500px; overflow: hidden; text-overflow: ellipsis; \" colspan=\"1\"><div style=\"text-align: left;border-bottom: solid 2px #000; padding-bottom: 5px\">GT</div></td></tr><tr><td style=\"white-space: nowrap; max-width: 500px; overflow: hidden; text-overflow: ellipsis; text-align: left;\">locus&lt;GRCh38&gt;</td><td style=\"white-space: nowrap; max-width: 500px; overflow: hidden; text-overflow: ellipsis; text-align: left;\">array&lt;str&gt;</td><td style=\"white-space: nowrap; max-width: 500px; overflow: hidden; text-overflow: ellipsis; text-align: left;\">call</td></tr>\n",
       "</thead><tbody><tr><td style=\"white-space: nowrap; max-width: 500px; overflow: hidden; text-overflow: ellipsis; \">chr1:13100</td><td style=\"white-space: nowrap; max-width: 500px; overflow: hidden; text-overflow: ellipsis; \">[&quot;C&quot;,&quot;T&quot;]</td><td style=\"white-space: nowrap; max-width: 500px; overflow: hidden; text-overflow: ellipsis; \">0/1</td></tr>\n",
       "<tr><td style=\"white-space: nowrap; max-width: 500px; overflow: hidden; text-overflow: ellipsis; \">chr1:25734793</td><td style=\"white-space: nowrap; max-width: 500px; overflow: hidden; text-overflow: ellipsis; \">[&quot;C&quot;,&quot;T&quot;]</td><td style=\"white-space: nowrap; max-width: 500px; overflow: hidden; text-overflow: ellipsis; \">0/1</td></tr>\n",
       "<tr><td style=\"white-space: nowrap; max-width: 500px; overflow: hidden; text-overflow: ellipsis; \">chr1:37323930</td><td style=\"white-space: nowrap; max-width: 500px; overflow: hidden; text-overflow: ellipsis; \">[&quot;C&quot;,&quot;T&quot;]</td><td style=\"white-space: nowrap; max-width: 500px; overflow: hidden; text-overflow: ellipsis; \">0/1</td></tr>\n",
       "<tr><td style=\"white-space: nowrap; max-width: 500px; overflow: hidden; text-overflow: ellipsis; \">chr2:1234</td><td style=\"white-space: nowrap; max-width: 500px; overflow: hidden; text-overflow: ellipsis; \">[&quot;C&quot;,&quot;T&quot;]</td><td style=\"white-space: nowrap; max-width: 500px; overflow: hidden; text-overflow: ellipsis; \">0/1</td></tr>\n",
       "<tr><td style=\"white-space: nowrap; max-width: 500px; overflow: hidden; text-overflow: ellipsis; \">chr2:1235</td><td style=\"white-space: nowrap; max-width: 500px; overflow: hidden; text-overflow: ellipsis; \">[&quot;C&quot;,&quot;T&quot;]</td><td style=\"white-space: nowrap; max-width: 500px; overflow: hidden; text-overflow: ellipsis; \">0/1</td></tr>\n",
       "<tr><td style=\"white-space: nowrap; max-width: 500px; overflow: hidden; text-overflow: ellipsis; \">chr3:1234</td><td style=\"white-space: nowrap; max-width: 500px; overflow: hidden; text-overflow: ellipsis; \">[&quot;C&quot;,&quot;T&quot;]</td><td style=\"white-space: nowrap; max-width: 500px; overflow: hidden; text-overflow: ellipsis; \">0/1</td></tr>\n",
       "<tr><td style=\"white-space: nowrap; max-width: 500px; overflow: hidden; text-overflow: ellipsis; \">chr4:1234</td><td style=\"white-space: nowrap; max-width: 500px; overflow: hidden; text-overflow: ellipsis; \">[&quot;C&quot;,&quot;T&quot;]</td><td style=\"white-space: nowrap; max-width: 500px; overflow: hidden; text-overflow: ellipsis; \">0/1</td></tr>\n",
       "<tr><td style=\"white-space: nowrap; max-width: 500px; overflow: hidden; text-overflow: ellipsis; \">chr4:1235</td><td style=\"white-space: nowrap; max-width: 500px; overflow: hidden; text-overflow: ellipsis; \">[&quot;C&quot;,&quot;T&quot;]</td><td style=\"white-space: nowrap; max-width: 500px; overflow: hidden; text-overflow: ellipsis; \">0/1</td></tr>\n",
       "<tr><td style=\"white-space: nowrap; max-width: 500px; overflow: hidden; text-overflow: ellipsis; \">chr4:1236</td><td style=\"white-space: nowrap; max-width: 500px; overflow: hidden; text-overflow: ellipsis; \">[&quot;C&quot;,&quot;T&quot;]</td><td style=\"white-space: nowrap; max-width: 500px; overflow: hidden; text-overflow: ellipsis; \">0/1</td></tr>\n",
       "<tr><td style=\"white-space: nowrap; max-width: 500px; overflow: hidden; text-overflow: ellipsis; \">chr5:1234</td><td style=\"white-space: nowrap; max-width: 500px; overflow: hidden; text-overflow: ellipsis; \">[&quot;C&quot;,&quot;T&quot;]</td><td style=\"white-space: nowrap; max-width: 500px; overflow: hidden; text-overflow: ellipsis; \">0/1</td></tr>\n",
       "</tbody></table><p style=\"background: #fdd; padding: 0.4em;\">showing top 10 rows</p>\n"
      ],
      "text/plain": [
       "+---------------+------------+------------+\n",
       "| locus         | alleles    | 'tumor'.GT |\n",
       "+---------------+------------+------------+\n",
       "| locus<GRCh38> | array<str> | call       |\n",
       "+---------------+------------+------------+\n",
       "| chr1:13100    | [\"C\",\"T\"]  | 0/1        |\n",
       "| chr1:25734793 | [\"C\",\"T\"]  | 0/1        |\n",
       "| chr1:37323930 | [\"C\",\"T\"]  | 0/1        |\n",
       "| chr2:1234     | [\"C\",\"T\"]  | 0/1        |\n",
       "| chr2:1235     | [\"C\",\"T\"]  | 0/1        |\n",
       "| chr3:1234     | [\"C\",\"T\"]  | 0/1        |\n",
       "| chr4:1234     | [\"C\",\"T\"]  | 0/1        |\n",
       "| chr4:1235     | [\"C\",\"T\"]  | 0/1        |\n",
       "| chr4:1236     | [\"C\",\"T\"]  | 0/1        |\n",
       "| chr5:1234     | [\"C\",\"T\"]  | 0/1        |\n",
       "+---------------+------------+------------+\n",
       "showing top 10 rows"
      ]
     },
     "metadata": {},
     "output_type": "display_data"
    }
   ],
   "source": [
    "mt = hl.import_vcf(\n",
    "    vcf_mini_path,\n",
    "    reference_genome=\"GRCh38\",\n",
    "    array_elements_required=False,\n",
    "    force=True,\n",
    ")\n",
    "mt.show()"
   ]
  },
  {
   "cell_type": "code",
   "execution_count": null,
   "id": "dd190d49",
   "metadata": {},
   "outputs": [],
   "source": [
    "consumer = MatrixTableConsumer(vcf_path=vcf_mini_path, reference_genome=\"GRCh38\")"
   ]
  },
  {
   "cell_type": "markdown",
   "id": "057828a1",
   "metadata": {},
   "source": [
    "# Save MatrixTable"
   ]
  },
  {
   "cell_type": "code",
   "execution_count": null,
   "id": "55633ab4",
   "metadata": {},
   "outputs": [
    {
     "name": "stderr",
     "output_type": "stream",
     "text": [
      "Extracting fields:   0%|          | 0/2 [00:00<?, ?it/s]"
     ]
    },
    {
     "name": "stderr",
     "output_type": "stream",
     "text": [
      "Extracting fields: 100%|██████████| 2/2 [00:00<00:00, 34.10it/s]\n"
     ]
    }
   ],
   "source": [
    "content = {}\n",
    "content = consumer.prepare_metadata_for_saving(json_path=json_path, mt=mt)"
   ]
  },
  {
   "cell_type": "markdown",
   "id": "5f4414dc",
   "metadata": {},
   "source": [
    "# Download MatrixTable"
   ]
  },
  {
   "cell_type": "code",
   "execution_count": null,
   "id": "9aa937af",
   "metadata": {},
   "outputs": [
    {
     "name": "stderr",
     "output_type": "stream",
     "text": [
      "Prepare metadata for loading: 100%|██████████| 3/3 [00:00<00:00, 325.63it/s]\n"
     ]
    },
    {
     "data": {
      "text/plain": [
       "(13, 1)"
      ]
     },
     "execution_count": 11,
     "metadata": {},
     "output_type": "execute_result"
    }
   ],
   "source": [
    "mt_new = consumer.prepare_metadata_for_loading(json_path=json_path)\n",
    "\n",
    "mt_new.write(matrix_table_path, overwrite=True)\n",
    "mt_new.count()"
   ]
  },
  {
   "cell_type": "markdown",
   "id": "185be466",
   "metadata": {},
   "source": [
    "# Collect rows"
   ]
  },
  {
   "cell_type": "code",
   "execution_count": null,
   "id": "6c757606",
   "metadata": {},
   "outputs": [],
   "source": [
    "consumer = MatrixTableConsumer(vcf_path=vcf_big_path, reference_genome=\"GRCh37\")"
   ]
  },
  {
   "cell_type": "code",
   "execution_count": null,
   "id": "7621c781",
   "metadata": {},
   "outputs": [
    {
     "name": "stderr",
     "output_type": "stream",
     "text": [
      "Collecting data: [===============================]| 200000/200000 [6.0s<0.0s]\n"
     ]
    },
    {
     "data": {
      "text/plain": [
       "[{'CHROM': '1',\n",
       "  'ID': '.',\n",
       "  'REF': 'A',\n",
       "  'ALT': 'T',\n",
       "  'FILTER': 'PASS',\n",
       "  'INFO': 'AC=7;AF=0.00139776;AN=5008;NS=2504;DP=16853;EAS_AF=0.0069;AMR_AF=0;AFR_AF=0;EUR_AF=0;SAS_AF=0;AA=A|||;VT=SNP',\n",
       "  'POS': 6122681,\n",
       "  'QUAL': 100},\n",
       " {'CHROM': '1',\n",
       "  'ID': '.',\n",
       "  'REF': 'G',\n",
       "  'ALT': 'T',\n",
       "  'FILTER': 'PASS',\n",
       "  'INFO': 'AC=3;AF=0.000599042;AN=5008;NS=2504;DP=16928;EAS_AF=0;AMR_AF=0.0014;AFR_AF=0;EUR_AF=0.002;SAS_AF=0;AA=G|||;VT=SNP',\n",
       "  'POS': 6122705,\n",
       "  'QUAL': 100},\n",
       " {'CHROM': '1',\n",
       "  'ID': '.',\n",
       "  'REF': 'C',\n",
       "  'ALT': 'T',\n",
       "  'FILTER': 'PASS',\n",
       "  'INFO': 'AC=1;AF=0.000199681;AN=5008;NS=2504;DP=17669;EAS_AF=0;AMR_AF=0;AFR_AF=0.0008;EUR_AF=0;SAS_AF=0;AA=C|||;VT=SNP',\n",
       "  'POS': 6122757,\n",
       "  'QUAL': 100},\n",
       " {'CHROM': '1',\n",
       "  'ID': '.',\n",
       "  'REF': 'T',\n",
       "  'ALT': 'C',\n",
       "  'FILTER': 'PASS',\n",
       "  'INFO': 'AC=1;AF=0.000199681;AN=5008;NS=2504;DP=19036;EAS_AF=0;AMR_AF=0;AFR_AF=0;EUR_AF=0;SAS_AF=0.001;AA=T|||;VT=SNP',\n",
       "  'POS': 6122810,\n",
       "  'QUAL': 100},\n",
       " {'CHROM': '1',\n",
       "  'ID': '.',\n",
       "  'REF': 'T',\n",
       "  'ALT': 'C',\n",
       "  'FILTER': 'PASS',\n",
       "  'INFO': 'AC=10;AF=0.00199681;AN=5008;NS=2504;DP=19063;EAS_AF=0;AMR_AF=0;AFR_AF=0.0076;EUR_AF=0;SAS_AF=0;AA=T|||;VT=SNP',\n",
       "  'POS': 6122845,\n",
       "  'QUAL': 100},\n",
       " {'CHROM': '1',\n",
       "  'ID': '.',\n",
       "  'REF': 'A',\n",
       "  'ALT': 'G',\n",
       "  'FILTER': 'PASS',\n",
       "  'INFO': 'AC=1;AF=0.000199681;AN=5008;NS=2504;DP=18974;EAS_AF=0;AMR_AF=0;AFR_AF=0.0008;EUR_AF=0;SAS_AF=0;AA=A|||;VT=SNP',\n",
       "  'POS': 6122914,\n",
       "  'QUAL': 100},\n",
       " {'CHROM': '1',\n",
       "  'ID': '.',\n",
       "  'REF': 'C',\n",
       "  'ALT': 'T',\n",
       "  'FILTER': 'PASS',\n",
       "  'INFO': 'AC=5;AF=0.000998403;AN=5008;NS=2504;DP=14296;EAS_AF=0.001;AMR_AF=0.0014;AFR_AF=0.0015;EUR_AF=0;SAS_AF=0.001;AA=C|||;VT=SNP',\n",
       "  'POS': 6123079,\n",
       "  'QUAL': 100},\n",
       " {'CHROM': '1',\n",
       "  'ID': '.',\n",
       "  'REF': 'G',\n",
       "  'ALT': 'A',\n",
       "  'FILTER': 'PASS',\n",
       "  'INFO': 'AC=5;AF=0.000998403;AN=5008;NS=2504;DP=11350;EAS_AF=0;AMR_AF=0.0014;AFR_AF=0;EUR_AF=0.004;SAS_AF=0;AA=G|||;VT=SNP',\n",
       "  'POS': 6123112,\n",
       "  'QUAL': 100},\n",
       " {'CHROM': '1',\n",
       "  'ID': '.',\n",
       "  'REF': 'C',\n",
       "  'ALT': 'T',\n",
       "  'FILTER': 'PASS',\n",
       "  'INFO': 'AC=1;AF=0.000199681;AN=5008;NS=2504;DP=11553;EAS_AF=0;AMR_AF=0;AFR_AF=0.0008;EUR_AF=0;SAS_AF=0;AA=C|||;VT=SNP',\n",
       "  'POS': 6123147,\n",
       "  'QUAL': 100},\n",
       " {'CHROM': '1',\n",
       "  'ID': '.',\n",
       "  'REF': 'A',\n",
       "  'ALT': 'G',\n",
       "  'FILTER': 'PASS',\n",
       "  'INFO': 'AC=1;AF=0.000199681;AN=5008;NS=2504;DP=11738;EAS_AF=0;AMR_AF=0;AFR_AF=0.0008;EUR_AF=0;SAS_AF=0;AA=A|||;VT=SNP',\n",
       "  'POS': 6123150,\n",
       "  'QUAL': 100}]"
      ]
     },
     "execution_count": 5,
     "metadata": {},
     "output_type": "execute_result"
    }
   ],
   "source": [
    "rows = consumer.collect(num_rows=200_000, num_cpu=1)\n",
    "rows[:10]"
   ]
  },
  {
   "cell_type": "code",
   "execution_count": null,
   "id": "03a64d32",
   "metadata": {},
   "outputs": [],
   "source": [
    "rows_count = consumer.count()\n",
    "rows_count"
   ]
  },
  {
   "cell_type": "code",
   "execution_count": null,
   "id": "aa418605",
   "metadata": {},
   "outputs": [],
   "source": [
    "rows = consumer.collect_all(num_cpu=NUM_CPU)\n",
    "rows[:2]"
   ]
  },
  {
   "cell_type": "code",
   "execution_count": null,
   "id": "db6e1b87",
   "metadata": {},
   "outputs": [],
   "source": [
    "print(len(rows))"
   ]
  },
  {
   "cell_type": "code",
   "execution_count": null,
   "id": "d4138586",
   "metadata": {},
   "outputs": [
    {
     "name": "stderr",
     "output_type": "stream",
     "text": [
      "Converting rows to hail: 100%|██████████| 200000/200000 [00:01<00:00, 108585.18it/s]\n"
     ]
    },
    {
     "data": {
      "text/plain": [
       "[Struct(locus=Locus(contig=1, position=6122681, reference_genome=GRCh37), alleles=['A', 'T'], rsid='.', qual=100, filters='PASS', info=Struct(info='AC=7;AF=0.00139776;AN=5008;NS=2504;DP=16853;EAS_AF=0.0069;AMR_AF=0;AFR_AF=0;EUR_AF=0;SAS_AF=0;AA=A|||;VT=SNP'), entries=[]),\n",
       " Struct(locus=Locus(contig=1, position=6122705, reference_genome=GRCh37), alleles=['G', 'T'], rsid='.', qual=100, filters='PASS', info=Struct(info='AC=3;AF=0.000599042;AN=5008;NS=2504;DP=16928;EAS_AF=0;AMR_AF=0.0014;AFR_AF=0;EUR_AF=0.002;SAS_AF=0;AA=G|||;VT=SNP'), entries=[]),\n",
       " Struct(locus=Locus(contig=1, position=6122757, reference_genome=GRCh37), alleles=['C', 'T'], rsid='.', qual=100, filters='PASS', info=Struct(info='AC=1;AF=0.000199681;AN=5008;NS=2504;DP=17669;EAS_AF=0;AMR_AF=0;AFR_AF=0.0008;EUR_AF=0;SAS_AF=0;AA=C|||;VT=SNP'), entries=[]),\n",
       " Struct(locus=Locus(contig=1, position=6122810, reference_genome=GRCh37), alleles=['T', 'C'], rsid='.', qual=100, filters='PASS', info=Struct(info='AC=1;AF=0.000199681;AN=5008;NS=2504;DP=19036;EAS_AF=0;AMR_AF=0;AFR_AF=0;EUR_AF=0;SAS_AF=0.001;AA=T|||;VT=SNP'), entries=[]),\n",
       " Struct(locus=Locus(contig=1, position=6122845, reference_genome=GRCh37), alleles=['T', 'C'], rsid='.', qual=100, filters='PASS', info=Struct(info='AC=10;AF=0.00199681;AN=5008;NS=2504;DP=19063;EAS_AF=0;AMR_AF=0;AFR_AF=0.0076;EUR_AF=0;SAS_AF=0;AA=T|||;VT=SNP'), entries=[])]"
      ]
     },
     "execution_count": 10,
     "metadata": {},
     "output_type": "execute_result"
    }
   ],
   "source": [
    "rows_hail = consumer.convert_rows_to_hail(rows=rows)\n",
    "rows_hail[:5]"
   ]
  },
  {
   "cell_type": "code",
   "execution_count": null,
   "id": "479be5e6",
   "metadata": {},
   "outputs": [
    {
     "data": {
      "text/html": [
       "<table><thead><tr><td style=\"white-space: nowrap; max-width: 500px; overflow: hidden; text-overflow: ellipsis; \" colspan=\"1\"><div style=\"text-align: left;\"></div></td><td style=\"white-space: nowrap; max-width: 500px; overflow: hidden; text-overflow: ellipsis; \" colspan=\"1\"><div style=\"text-align: left;\"></div></td><td style=\"white-space: nowrap; max-width: 500px; overflow: hidden; text-overflow: ellipsis; \" colspan=\"1\"><div style=\"text-align: left;\"></div></td><td style=\"white-space: nowrap; max-width: 500px; overflow: hidden; text-overflow: ellipsis; \" colspan=\"1\"><div style=\"text-align: left;\"></div></td><td style=\"white-space: nowrap; max-width: 500px; overflow: hidden; text-overflow: ellipsis; \" colspan=\"1\"><div style=\"text-align: left;\"></div></td><td style=\"white-space: nowrap; max-width: 500px; overflow: hidden; text-overflow: ellipsis; \" colspan=\"1\"><div style=\"text-align: left;\"></div></td><td style=\"white-space: nowrap; max-width: 500px; overflow: hidden; text-overflow: ellipsis; \" colspan=\"1\"><div style=\"text-align: left;\"></div></td></tr><tr><td style=\"white-space: nowrap; max-width: 500px; overflow: hidden; text-overflow: ellipsis; \" colspan=\"1\"><div style=\"text-align: left;\"></div></td><td style=\"white-space: nowrap; max-width: 500px; overflow: hidden; text-overflow: ellipsis; \" colspan=\"1\"><div style=\"text-align: left;\"></div></td><td style=\"white-space: nowrap; max-width: 500px; overflow: hidden; text-overflow: ellipsis; \" colspan=\"1\"><div style=\"text-align: left;\"></div></td><td style=\"white-space: nowrap; max-width: 500px; overflow: hidden; text-overflow: ellipsis; \" colspan=\"1\"><div style=\"text-align: left;\"></div></td><td style=\"white-space: nowrap; max-width: 500px; overflow: hidden; text-overflow: ellipsis; \" colspan=\"1\"><div style=\"text-align: left;\"></div></td><td style=\"white-space: nowrap; max-width: 500px; overflow: hidden; text-overflow: ellipsis; \" colspan=\"1\"><div style=\"text-align: left;border-bottom: solid 2px #000; padding-bottom: 5px\">info</div></td><td style=\"white-space: nowrap; max-width: 500px; overflow: hidden; text-overflow: ellipsis; \" colspan=\"1\"><div style=\"text-align: left;\"></div></td></tr><tr><td style=\"white-space: nowrap; max-width: 500px; overflow: hidden; text-overflow: ellipsis; \" colspan=\"1\"><div style=\"text-align: left;border-bottom: solid 2px #000; padding-bottom: 5px\">locus</div></td><td style=\"white-space: nowrap; max-width: 500px; overflow: hidden; text-overflow: ellipsis; \" colspan=\"1\"><div style=\"text-align: left;border-bottom: solid 2px #000; padding-bottom: 5px\">alleles</div></td><td style=\"white-space: nowrap; max-width: 500px; overflow: hidden; text-overflow: ellipsis; \" colspan=\"1\"><div style=\"text-align: left;border-bottom: solid 2px #000; padding-bottom: 5px\">rsid</div></td><td style=\"white-space: nowrap; max-width: 500px; overflow: hidden; text-overflow: ellipsis; \" colspan=\"1\"><div style=\"text-align: left;border-bottom: solid 2px #000; padding-bottom: 5px\">qual</div></td><td style=\"white-space: nowrap; max-width: 500px; overflow: hidden; text-overflow: ellipsis; \" colspan=\"1\"><div style=\"text-align: left;border-bottom: solid 2px #000; padding-bottom: 5px\">filters</div></td><td style=\"white-space: nowrap; max-width: 500px; overflow: hidden; text-overflow: ellipsis; \" colspan=\"1\"><div style=\"text-align: left;border-bottom: solid 2px #000; padding-bottom: 5px\">info</div></td><td style=\"white-space: nowrap; max-width: 500px; overflow: hidden; text-overflow: ellipsis; \" colspan=\"1\"><div style=\"text-align: left;border-bottom: solid 2px #000; padding-bottom: 5px\">entries</div></td></tr><tr><td style=\"white-space: nowrap; max-width: 500px; overflow: hidden; text-overflow: ellipsis; text-align: left;\">locus&lt;GRCh37&gt;</td><td style=\"white-space: nowrap; max-width: 500px; overflow: hidden; text-overflow: ellipsis; text-align: left;\">array&lt;str&gt;</td><td style=\"white-space: nowrap; max-width: 500px; overflow: hidden; text-overflow: ellipsis; text-align: left;\">str</td><td style=\"white-space: nowrap; max-width: 500px; overflow: hidden; text-overflow: ellipsis; text-align: left;\">int32</td><td style=\"white-space: nowrap; max-width: 500px; overflow: hidden; text-overflow: ellipsis; text-align: left;\">str</td><td style=\"white-space: nowrap; max-width: 500px; overflow: hidden; text-overflow: ellipsis; text-align: left;\">str</td><td style=\"white-space: nowrap; max-width: 500px; overflow: hidden; text-overflow: ellipsis; text-align: left;\">array&lt;struct{}&gt;</td></tr>\n",
       "</thead><tbody><tr><td style=\"white-space: nowrap; max-width: 500px; overflow: hidden; text-overflow: ellipsis; \">1:6122681</td><td style=\"white-space: nowrap; max-width: 500px; overflow: hidden; text-overflow: ellipsis; \">[&quot;A&quot;,&quot;T&quot;]</td><td style=\"white-space: nowrap; max-width: 500px; overflow: hidden; text-overflow: ellipsis; \">&quot;.&quot;</td><td style=\"white-space: nowrap; max-width: 500px; overflow: hidden; text-overflow: ellipsis; \">100</td><td style=\"white-space: nowrap; max-width: 500px; overflow: hidden; text-overflow: ellipsis; \">&quot;PASS&quot;</td><td style=\"white-space: nowrap; max-width: 500px; overflow: hidden; text-overflow: ellipsis; \">&quot;AC=7;AF=0.00139776;AN=5008;NS=2504;DP=16853;EAS_AF=0.0069;AMR_AF=0;AFR_AF=0;EUR_AF=0;SAS_AF=0;AA=A|||;VT=SNP&quot;</td><td style=\"white-space: nowrap; max-width: 500px; overflow: hidden; text-overflow: ellipsis; \">[]</td></tr>\n",
       "<tr><td style=\"white-space: nowrap; max-width: 500px; overflow: hidden; text-overflow: ellipsis; \">1:6122705</td><td style=\"white-space: nowrap; max-width: 500px; overflow: hidden; text-overflow: ellipsis; \">[&quot;G&quot;,&quot;T&quot;]</td><td style=\"white-space: nowrap; max-width: 500px; overflow: hidden; text-overflow: ellipsis; \">&quot;.&quot;</td><td style=\"white-space: nowrap; max-width: 500px; overflow: hidden; text-overflow: ellipsis; \">100</td><td style=\"white-space: nowrap; max-width: 500px; overflow: hidden; text-overflow: ellipsis; \">&quot;PASS&quot;</td><td style=\"white-space: nowrap; max-width: 500px; overflow: hidden; text-overflow: ellipsis; \">&quot;AC=3;AF=0.000599042;AN=5008;NS=2504;DP=16928;EAS_AF=0;AMR_AF=0.0014;AFR_AF=0;EUR_AF=0.002;SAS_AF=0;AA=G|||;VT=SNP&quot;</td><td style=\"white-space: nowrap; max-width: 500px; overflow: hidden; text-overflow: ellipsis; \">[]</td></tr>\n",
       "<tr><td style=\"white-space: nowrap; max-width: 500px; overflow: hidden; text-overflow: ellipsis; \">1:6122757</td><td style=\"white-space: nowrap; max-width: 500px; overflow: hidden; text-overflow: ellipsis; \">[&quot;C&quot;,&quot;T&quot;]</td><td style=\"white-space: nowrap; max-width: 500px; overflow: hidden; text-overflow: ellipsis; \">&quot;.&quot;</td><td style=\"white-space: nowrap; max-width: 500px; overflow: hidden; text-overflow: ellipsis; \">100</td><td style=\"white-space: nowrap; max-width: 500px; overflow: hidden; text-overflow: ellipsis; \">&quot;PASS&quot;</td><td style=\"white-space: nowrap; max-width: 500px; overflow: hidden; text-overflow: ellipsis; \">&quot;AC=1;AF=0.000199681;AN=5008;NS=2504;DP=17669;EAS_AF=0;AMR_AF=0;AFR_AF=0.0008;EUR_AF=0;SAS_AF=0;AA=C|||;VT=SNP&quot;</td><td style=\"white-space: nowrap; max-width: 500px; overflow: hidden; text-overflow: ellipsis; \">[]</td></tr>\n",
       "<tr><td style=\"white-space: nowrap; max-width: 500px; overflow: hidden; text-overflow: ellipsis; \">1:6122810</td><td style=\"white-space: nowrap; max-width: 500px; overflow: hidden; text-overflow: ellipsis; \">[&quot;T&quot;,&quot;C&quot;]</td><td style=\"white-space: nowrap; max-width: 500px; overflow: hidden; text-overflow: ellipsis; \">&quot;.&quot;</td><td style=\"white-space: nowrap; max-width: 500px; overflow: hidden; text-overflow: ellipsis; \">100</td><td style=\"white-space: nowrap; max-width: 500px; overflow: hidden; text-overflow: ellipsis; \">&quot;PASS&quot;</td><td style=\"white-space: nowrap; max-width: 500px; overflow: hidden; text-overflow: ellipsis; \">&quot;AC=1;AF=0.000199681;AN=5008;NS=2504;DP=19036;EAS_AF=0;AMR_AF=0;AFR_AF=0;EUR_AF=0;SAS_AF=0.001;AA=T|||;VT=SNP&quot;</td><td style=\"white-space: nowrap; max-width: 500px; overflow: hidden; text-overflow: ellipsis; \">[]</td></tr>\n",
       "<tr><td style=\"white-space: nowrap; max-width: 500px; overflow: hidden; text-overflow: ellipsis; \">1:6122845</td><td style=\"white-space: nowrap; max-width: 500px; overflow: hidden; text-overflow: ellipsis; \">[&quot;T&quot;,&quot;C&quot;]</td><td style=\"white-space: nowrap; max-width: 500px; overflow: hidden; text-overflow: ellipsis; \">&quot;.&quot;</td><td style=\"white-space: nowrap; max-width: 500px; overflow: hidden; text-overflow: ellipsis; \">100</td><td style=\"white-space: nowrap; max-width: 500px; overflow: hidden; text-overflow: ellipsis; \">&quot;PASS&quot;</td><td style=\"white-space: nowrap; max-width: 500px; overflow: hidden; text-overflow: ellipsis; \">&quot;AC=10;AF=0.00199681;AN=5008;NS=2504;DP=19063;EAS_AF=0;AMR_AF=0;AFR_AF=0.0076;EUR_AF=0;SAS_AF=0;AA=T|||;VT=SNP&quot;</td><td style=\"white-space: nowrap; max-width: 500px; overflow: hidden; text-overflow: ellipsis; \">[]</td></tr>\n",
       "<tr><td style=\"white-space: nowrap; max-width: 500px; overflow: hidden; text-overflow: ellipsis; \">1:6122914</td><td style=\"white-space: nowrap; max-width: 500px; overflow: hidden; text-overflow: ellipsis; \">[&quot;A&quot;,&quot;G&quot;]</td><td style=\"white-space: nowrap; max-width: 500px; overflow: hidden; text-overflow: ellipsis; \">&quot;.&quot;</td><td style=\"white-space: nowrap; max-width: 500px; overflow: hidden; text-overflow: ellipsis; \">100</td><td style=\"white-space: nowrap; max-width: 500px; overflow: hidden; text-overflow: ellipsis; \">&quot;PASS&quot;</td><td style=\"white-space: nowrap; max-width: 500px; overflow: hidden; text-overflow: ellipsis; \">&quot;AC=1;AF=0.000199681;AN=5008;NS=2504;DP=18974;EAS_AF=0;AMR_AF=0;AFR_AF=0.0008;EUR_AF=0;SAS_AF=0;AA=A|||;VT=SNP&quot;</td><td style=\"white-space: nowrap; max-width: 500px; overflow: hidden; text-overflow: ellipsis; \">[]</td></tr>\n",
       "<tr><td style=\"white-space: nowrap; max-width: 500px; overflow: hidden; text-overflow: ellipsis; \">1:6123079</td><td style=\"white-space: nowrap; max-width: 500px; overflow: hidden; text-overflow: ellipsis; \">[&quot;C&quot;,&quot;T&quot;]</td><td style=\"white-space: nowrap; max-width: 500px; overflow: hidden; text-overflow: ellipsis; \">&quot;.&quot;</td><td style=\"white-space: nowrap; max-width: 500px; overflow: hidden; text-overflow: ellipsis; \">100</td><td style=\"white-space: nowrap; max-width: 500px; overflow: hidden; text-overflow: ellipsis; \">&quot;PASS&quot;</td><td style=\"white-space: nowrap; max-width: 500px; overflow: hidden; text-overflow: ellipsis; \">&quot;AC=5;AF=0.000998403;AN=5008;NS=2504;DP=14296;EAS_AF=0.001;AMR_AF=0.0014;AFR_AF=0.0015;EUR_AF=0;SAS_AF=0.001;AA=C|||;VT=SNP&quot;</td><td style=\"white-space: nowrap; max-width: 500px; overflow: hidden; text-overflow: ellipsis; \">[]</td></tr>\n",
       "<tr><td style=\"white-space: nowrap; max-width: 500px; overflow: hidden; text-overflow: ellipsis; \">1:6123112</td><td style=\"white-space: nowrap; max-width: 500px; overflow: hidden; text-overflow: ellipsis; \">[&quot;G&quot;,&quot;A&quot;]</td><td style=\"white-space: nowrap; max-width: 500px; overflow: hidden; text-overflow: ellipsis; \">&quot;.&quot;</td><td style=\"white-space: nowrap; max-width: 500px; overflow: hidden; text-overflow: ellipsis; \">100</td><td style=\"white-space: nowrap; max-width: 500px; overflow: hidden; text-overflow: ellipsis; \">&quot;PASS&quot;</td><td style=\"white-space: nowrap; max-width: 500px; overflow: hidden; text-overflow: ellipsis; \">&quot;AC=5;AF=0.000998403;AN=5008;NS=2504;DP=11350;EAS_AF=0;AMR_AF=0.0014;AFR_AF=0;EUR_AF=0.004;SAS_AF=0;AA=G|||;VT=SNP&quot;</td><td style=\"white-space: nowrap; max-width: 500px; overflow: hidden; text-overflow: ellipsis; \">[]</td></tr>\n",
       "<tr><td style=\"white-space: nowrap; max-width: 500px; overflow: hidden; text-overflow: ellipsis; \">1:6123147</td><td style=\"white-space: nowrap; max-width: 500px; overflow: hidden; text-overflow: ellipsis; \">[&quot;C&quot;,&quot;T&quot;]</td><td style=\"white-space: nowrap; max-width: 500px; overflow: hidden; text-overflow: ellipsis; \">&quot;.&quot;</td><td style=\"white-space: nowrap; max-width: 500px; overflow: hidden; text-overflow: ellipsis; \">100</td><td style=\"white-space: nowrap; max-width: 500px; overflow: hidden; text-overflow: ellipsis; \">&quot;PASS&quot;</td><td style=\"white-space: nowrap; max-width: 500px; overflow: hidden; text-overflow: ellipsis; \">&quot;AC=1;AF=0.000199681;AN=5008;NS=2504;DP=11553;EAS_AF=0;AMR_AF=0;AFR_AF=0.0008;EUR_AF=0;SAS_AF=0;AA=C|||;VT=SNP&quot;</td><td style=\"white-space: nowrap; max-width: 500px; overflow: hidden; text-overflow: ellipsis; \">[]</td></tr>\n",
       "<tr><td style=\"white-space: nowrap; max-width: 500px; overflow: hidden; text-overflow: ellipsis; \">1:6123150</td><td style=\"white-space: nowrap; max-width: 500px; overflow: hidden; text-overflow: ellipsis; \">[&quot;A&quot;,&quot;G&quot;]</td><td style=\"white-space: nowrap; max-width: 500px; overflow: hidden; text-overflow: ellipsis; \">&quot;.&quot;</td><td style=\"white-space: nowrap; max-width: 500px; overflow: hidden; text-overflow: ellipsis; \">100</td><td style=\"white-space: nowrap; max-width: 500px; overflow: hidden; text-overflow: ellipsis; \">&quot;PASS&quot;</td><td style=\"white-space: nowrap; max-width: 500px; overflow: hidden; text-overflow: ellipsis; \">&quot;AC=1;AF=0.000199681;AN=5008;NS=2504;DP=11738;EAS_AF=0;AMR_AF=0;AFR_AF=0.0008;EUR_AF=0;SAS_AF=0;AA=A|||;VT=SNP&quot;</td><td style=\"white-space: nowrap; max-width: 500px; overflow: hidden; text-overflow: ellipsis; \">[]</td></tr>\n",
       "</tbody></table><p style=\"background: #fdd; padding: 0.4em;\">showing top 10 rows</p>\n"
      ],
      "text/plain": [
       "+---------------+------------+------+-------+---------+\n",
       "| locus         | alleles    | rsid |  qual | filters |\n",
       "+---------------+------------+------+-------+---------+\n",
       "| locus<GRCh37> | array<str> | str  | int32 | str     |\n",
       "+---------------+------------+------+-------+---------+\n",
       "| 1:6122681     | [\"A\",\"T\"]  | \".\"  |   100 | \"PASS\"  |\n",
       "| 1:6122705     | [\"G\",\"T\"]  | \".\"  |   100 | \"PASS\"  |\n",
       "| 1:6122757     | [\"C\",\"T\"]  | \".\"  |   100 | \"PASS\"  |\n",
       "| 1:6122810     | [\"T\",\"C\"]  | \".\"  |   100 | \"PASS\"  |\n",
       "| 1:6122845     | [\"T\",\"C\"]  | \".\"  |   100 | \"PASS\"  |\n",
       "| 1:6122914     | [\"A\",\"G\"]  | \".\"  |   100 | \"PASS\"  |\n",
       "| 1:6123079     | [\"C\",\"T\"]  | \".\"  |   100 | \"PASS\"  |\n",
       "| 1:6123112     | [\"G\",\"A\"]  | \".\"  |   100 | \"PASS\"  |\n",
       "| 1:6123147     | [\"C\",\"T\"]  | \".\"  |   100 | \"PASS\"  |\n",
       "| 1:6123150     | [\"A\",\"G\"]  | \".\"  |   100 | \"PASS\"  |\n",
       "+---------------+------------+------+-------+---------+\n",
       "\n",
       "+------------------------------------------------------------------------------+\n",
       "| info.info                                                                    |\n",
       "+------------------------------------------------------------------------------+\n",
       "| str                                                                          |\n",
       "+------------------------------------------------------------------------------+\n",
       "| \"AC=7;AF=0.00139776;AN=5008;NS=2504;DP=16853;EAS_AF=0.0069;AMR_AF=0;AFR_A... |\n",
       "| \"AC=3;AF=0.000599042;AN=5008;NS=2504;DP=16928;EAS_AF=0;AMR_AF=0.0014;AFR_... |\n",
       "| \"AC=1;AF=0.000199681;AN=5008;NS=2504;DP=17669;EAS_AF=0;AMR_AF=0;AFR_AF=0.... |\n",
       "| \"AC=1;AF=0.000199681;AN=5008;NS=2504;DP=19036;EAS_AF=0;AMR_AF=0;AFR_AF=0;... |\n",
       "| \"AC=10;AF=0.00199681;AN=5008;NS=2504;DP=19063;EAS_AF=0;AMR_AF=0;AFR_AF=0.... |\n",
       "| \"AC=1;AF=0.000199681;AN=5008;NS=2504;DP=18974;EAS_AF=0;AMR_AF=0;AFR_AF=0.... |\n",
       "| \"AC=5;AF=0.000998403;AN=5008;NS=2504;DP=14296;EAS_AF=0.001;AMR_AF=0.0014;... |\n",
       "| \"AC=5;AF=0.000998403;AN=5008;NS=2504;DP=11350;EAS_AF=0;AMR_AF=0.0014;AFR_... |\n",
       "| \"AC=1;AF=0.000199681;AN=5008;NS=2504;DP=11553;EAS_AF=0;AMR_AF=0;AFR_AF=0.... |\n",
       "| \"AC=1;AF=0.000199681;AN=5008;NS=2504;DP=11738;EAS_AF=0;AMR_AF=0;AFR_AF=0.... |\n",
       "+------------------------------------------------------------------------------+\n",
       "\n",
       "+-----------------+\n",
       "| entries         |\n",
       "+-----------------+\n",
       "| array<struct{}> |\n",
       "+-----------------+\n",
       "| []              |\n",
       "| []              |\n",
       "| []              |\n",
       "| []              |\n",
       "| []              |\n",
       "| []              |\n",
       "| []              |\n",
       "| []              |\n",
       "| []              |\n",
       "| []              |\n",
       "+-----------------+\n",
       "showing top 10 rows"
      ]
     },
     "metadata": {},
     "output_type": "display_data"
    }
   ],
   "source": [
    "t = consumer.create_hail_table(rows=rows_hail)\n",
    "t.show()"
   ]
  },
  {
   "cell_type": "markdown",
   "id": "18ffb6e8",
   "metadata": {},
   "source": [
    "# Create MatrixTable from Table"
   ]
  },
  {
   "cell_type": "code",
   "execution_count": null,
   "id": "104a11bc",
   "metadata": {},
   "outputs": [],
   "source": [
    "mt_from_table = consumer.combine_hail_matrix_table_and_table(mt=mt, table=t)\n",
    "mt_from_table.show()"
   ]
  },
  {
   "cell_type": "code",
   "execution_count": null,
   "id": "829ef626",
   "metadata": {},
   "outputs": [],
   "source": [
    "mt_from_table.count()"
   ]
  },
  {
   "cell_type": "markdown",
   "id": "751164fc",
   "metadata": {},
   "source": [
    "# Zarr format"
   ]
  },
  {
   "cell_type": "code",
   "execution_count": 1,
   "id": "3def5124",
   "metadata": {},
   "outputs": [
    {
     "data": {
      "text/html": [
       "    <style>\n",
       "        .bk-notebook-logo {\n",
       "            display: block;\n",
       "            width: 20px;\n",
       "            height: 20px;\n",
       "            background-image: url(data:image/png;base64,iVBORw0KGgoAAAANSUhEUgAAABQAAAAUCAYAAACNiR0NAAAABHNCSVQICAgIfAhkiAAAAAlwSFlzAAALEgAACxIB0t1+/AAAABx0RVh0U29mdHdhcmUAQWRvYmUgRmlyZXdvcmtzIENTNui8sowAAAOkSURBVDiNjZRtaJVlGMd/1/08zzln5zjP1LWcU9N0NkN8m2CYjpgQYQXqSs0I84OLIC0hkEKoPtiH3gmKoiJDU7QpLgoLjLIQCpEsNJ1vqUOdO7ppbuec5+V+rj4ctwzd8IIbbi6u+8f1539dt3A78eXC7QizUF7gyV1fD1Yqg4JWz84yffhm0qkFqBogB9rM8tZdtwVsPUhWhGcFJngGeWrPzHm5oaMmkfEg1usvLFyc8jLRqDOMru7AyC8saQr7GG7f5fvDeH7Ej8CM66nIF+8yngt6HWaKh7k49Soy9nXurCi1o3qUbS3zWfrYeQDTB/Qj6kX6Ybhw4B+bOYoLKCC9H3Nu/leUTZ1JdRWkkn2ldcCamzrcf47KKXdAJllSlxAOkRgyHsGC/zRday5Qld9DyoM4/q/rUoy/CXh3jzOu3bHUVZeU+DEn8FInkPBFlu3+nW3Nw0mk6vCDiWg8CeJaxEwuHS3+z5RgY+YBR6V1Z1nxSOfoaPa4LASWxxdNp+VWTk7+4vzaou8v8PN+xo+KY2xsw6une2frhw05CTYOmQvsEhjhWjn0bmXPjpE1+kplmmkP3suftwTubK9Vq22qKmrBhpY4jvd5afdRA3wGjFAgcnTK2s4hY0/GPNIb0nErGMCRxWOOX64Z8RAC4oCXdklmEvcL8o0BfkNK4lUg9HTl+oPlQxdNo3Mg4Nv175e/1LDGzZen30MEjRUtmXSfiTVu1kK8W4txyV6BMKlbgk3lMwYCiusNy9fVfvvwMxv8Ynl6vxoByANLTWplvuj/nF9m2+PDtt1eiHPBr1oIfhCChQMBw6Aw0UulqTKZdfVvfG7VcfIqLG9bcldL/+pdWTLxLUy8Qq38heUIjh4XlzZxzQm19lLFlr8vdQ97rjZVOLf8nclzckbcD4wxXMidpX30sFd37Fv/GtwwhzhxGVAprjbg0gCAEeIgwCZyTV2Z1REEW8O4py0wsjeloKoMr6iCY6dP92H6Vw/oTyICIthibxjm/DfN9lVz8IqtqKYLUXfoKVMVQVVJOElGjrnnUt9T9wbgp8AyYKaGlqingHZU/uG2NTZSVqwHQTWkx9hxjkpWDaCg6Ckj5qebgBVbT3V3NNXMSiWSDdGV3hrtzla7J+duwPOToIg42ChPQOQjspnSlp1V+Gjdged7+8UN5CRAV7a5EdFNwCjEaBR27b3W890TE7g24NAP/mMDXRWrGoFPQI9ls/MWO2dWFAar/xcOIImbbpA3zgAAAABJRU5ErkJggg==);\n",
       "        }\n",
       "    </style>\n",
       "    <div>\n",
       "        <a href=\"https://bokeh.org\" target=\"_blank\" class=\"bk-notebook-logo\"></a>\n",
       "        <span id=\"fe0fa190-6640-42bb-b2da-c99572999670\">Loading BokehJS ...</span>\n",
       "    </div>\n"
      ]
     },
     "metadata": {},
     "output_type": "display_data"
    },
    {
     "data": {
      "application/javascript": "'use strict';\n(function(root) {\n  function now() {\n    return new Date();\n  }\n\n  const force = true;\n\n  if (typeof root._bokeh_onload_callbacks === \"undefined\" || force === true) {\n    root._bokeh_onload_callbacks = [];\n    root._bokeh_is_loading = undefined;\n  }\n\nconst JS_MIME_TYPE = 'application/javascript';\n  const HTML_MIME_TYPE = 'text/html';\n  const EXEC_MIME_TYPE = 'application/vnd.bokehjs_exec.v0+json';\n  const CLASS_NAME = 'output_bokeh rendered_html';\n\n  /**\n   * Render data to the DOM node\n   */\n  function render(props, node) {\n    const script = document.createElement(\"script\");\n    node.appendChild(script);\n  }\n\n  /**\n   * Handle when an output is cleared or removed\n   */\n  function handleClearOutput(event, handle) {\n    function drop(id) {\n      const view = Bokeh.index.get_by_id(id)\n      if (view != null) {\n        view.model.document.clear()\n        Bokeh.index.delete(view)\n      }\n    }\n\n    const cell = handle.cell;\n\n    const id = cell.output_area._bokeh_element_id;\n    const server_id = cell.output_area._bokeh_server_id;\n\n    // Clean up Bokeh references\n    if (id != null) {\n      drop(id)\n    }\n\n    if (server_id !== undefined) {\n      // Clean up Bokeh references\n      const cmd_clean = \"from bokeh.io.state import curstate; print(curstate().uuid_to_server['\" + server_id + \"'].get_sessions()[0].document.roots[0]._id)\";\n      cell.notebook.kernel.execute(cmd_clean, {\n        iopub: {\n          output: function(msg) {\n            const id = msg.content.text.trim()\n            drop(id)\n          }\n        }\n      });\n      // Destroy server and session\n      const cmd_destroy = \"import bokeh.io.notebook as ion; ion.destroy_server('\" + server_id + \"')\";\n      cell.notebook.kernel.execute(cmd_destroy);\n    }\n  }\n\n  /**\n   * Handle when a new output is added\n   */\n  function handleAddOutput(event, handle) {\n    const output_area = handle.output_area;\n    const output = handle.output;\n\n    // limit handleAddOutput to display_data with EXEC_MIME_TYPE content only\n    if ((output.output_type != \"display_data\") || (!Object.prototype.hasOwnProperty.call(output.data, EXEC_MIME_TYPE))) {\n      return\n    }\n\n    const toinsert = output_area.element.find(\".\" + CLASS_NAME.split(' ')[0]);\n\n    if (output.metadata[EXEC_MIME_TYPE][\"id\"] !== undefined) {\n      toinsert[toinsert.length - 1].firstChild.textContent = output.data[JS_MIME_TYPE];\n      // store reference to embed id on output_area\n      output_area._bokeh_element_id = output.metadata[EXEC_MIME_TYPE][\"id\"];\n    }\n    if (output.metadata[EXEC_MIME_TYPE][\"server_id\"] !== undefined) {\n      const bk_div = document.createElement(\"div\");\n      bk_div.innerHTML = output.data[HTML_MIME_TYPE];\n      const script_attrs = bk_div.children[0].attributes;\n      for (let i = 0; i < script_attrs.length; i++) {\n        toinsert[toinsert.length - 1].firstChild.setAttribute(script_attrs[i].name, script_attrs[i].value);\n        toinsert[toinsert.length - 1].firstChild.textContent = bk_div.children[0].textContent\n      }\n      // store reference to server id on output_area\n      output_area._bokeh_server_id = output.metadata[EXEC_MIME_TYPE][\"server_id\"];\n    }\n  }\n\n  function register_renderer(events, OutputArea) {\n\n    function append_mime(data, metadata, element) {\n      // create a DOM node to render to\n      const toinsert = this.create_output_subarea(\n        metadata,\n        CLASS_NAME,\n        EXEC_MIME_TYPE\n      );\n      this.keyboard_manager.register_events(toinsert);\n      // Render to node\n      const props = {data: data, metadata: metadata[EXEC_MIME_TYPE]};\n      render(props, toinsert[toinsert.length - 1]);\n      element.append(toinsert);\n      return toinsert\n    }\n\n    /* Handle when an output is cleared or removed */\n    events.on('clear_output.CodeCell', handleClearOutput);\n    events.on('delete.Cell', handleClearOutput);\n\n    /* Handle when a new output is added */\n    events.on('output_added.OutputArea', handleAddOutput);\n\n    /**\n     * Register the mime type and append_mime function with output_area\n     */\n    OutputArea.prototype.register_mime_type(EXEC_MIME_TYPE, append_mime, {\n      /* Is output safe? */\n      safe: true,\n      /* Index of renderer in `output_area.display_order` */\n      index: 0\n    });\n  }\n\n  // register the mime type if in Jupyter Notebook environment and previously unregistered\n  if (root.Jupyter !== undefined) {\n    const events = require('base/js/events');\n    const OutputArea = require('notebook/js/outputarea').OutputArea;\n\n    if (OutputArea.prototype.mime_types().indexOf(EXEC_MIME_TYPE) == -1) {\n      register_renderer(events, OutputArea);\n    }\n  }\n  if (typeof (root._bokeh_timeout) === \"undefined\" || force === true) {\n    root._bokeh_timeout = Date.now() + 5000;\n    root._bokeh_failed_load = false;\n  }\n\n  const NB_LOAD_WARNING = {'data': {'text/html':\n     \"<div style='background-color: #fdd'>\\n\"+\n     \"<p>\\n\"+\n     \"BokehJS does not appear to have successfully loaded. If loading BokehJS from CDN, this \\n\"+\n     \"may be due to a slow or bad network connection. Possible fixes:\\n\"+\n     \"</p>\\n\"+\n     \"<ul>\\n\"+\n     \"<li>re-rerun `output_notebook()` to attempt to load from CDN again, or</li>\\n\"+\n     \"<li>use INLINE resources instead, as so:</li>\\n\"+\n     \"</ul>\\n\"+\n     \"<code>\\n\"+\n     \"from bokeh.resources import INLINE\\n\"+\n     \"output_notebook(resources=INLINE)\\n\"+\n     \"</code>\\n\"+\n     \"</div>\"}};\n\n  function display_loaded(error = null) {\n    const el = document.getElementById(\"fe0fa190-6640-42bb-b2da-c99572999670\");\n    if (el != null) {\n      const html = (() => {\n        if (typeof root.Bokeh === \"undefined\") {\n          if (error == null) {\n            return \"BokehJS is loading ...\";\n          } else {\n            return \"BokehJS failed to load.\";\n          }\n        } else {\n          const prefix = `BokehJS ${root.Bokeh.version}`;\n          if (error == null) {\n            return `${prefix} successfully loaded.`;\n          } else {\n            return `${prefix} <b>encountered errors</b> while loading and may not function as expected.`;\n          }\n        }\n      })();\n      el.innerHTML = html;\n\n      if (error != null) {\n        const wrapper = document.createElement(\"div\");\n        wrapper.style.overflow = \"auto\";\n        wrapper.style.height = \"5em\";\n        wrapper.style.resize = \"vertical\";\n        const content = document.createElement(\"div\");\n        content.style.fontFamily = \"monospace\";\n        content.style.whiteSpace = \"pre-wrap\";\n        content.style.backgroundColor = \"rgb(255, 221, 221)\";\n        content.textContent = error.stack ?? error.toString();\n        wrapper.append(content);\n        el.append(wrapper);\n      }\n    } else if (Date.now() < root._bokeh_timeout) {\n      setTimeout(() => display_loaded(error), 100);\n    }\n  }\n\n  function run_callbacks() {\n    try {\n      root._bokeh_onload_callbacks.forEach(function(callback) {\n        if (callback != null)\n          callback();\n      });\n    } finally {\n      delete root._bokeh_onload_callbacks\n    }\n    console.debug(\"Bokeh: all callbacks have finished\");\n  }\n\n  function load_libs(css_urls, js_urls, callback) {\n    if (css_urls == null) css_urls = [];\n    if (js_urls == null) js_urls = [];\n\n    root._bokeh_onload_callbacks.push(callback);\n    if (root._bokeh_is_loading > 0) {\n      console.debug(\"Bokeh: BokehJS is being loaded, scheduling callback at\", now());\n      return null;\n    }\n    if (js_urls == null || js_urls.length === 0) {\n      run_callbacks();\n      return null;\n    }\n    console.debug(\"Bokeh: BokehJS not loaded, scheduling load and callback at\", now());\n    root._bokeh_is_loading = css_urls.length + js_urls.length;\n\n    function on_load() {\n      root._bokeh_is_loading--;\n      if (root._bokeh_is_loading === 0) {\n        console.debug(\"Bokeh: all BokehJS libraries/stylesheets loaded\");\n        run_callbacks()\n      }\n    }\n\n    function on_error(url) {\n      console.error(\"failed to load \" + url);\n    }\n\n    for (let i = 0; i < css_urls.length; i++) {\n      const url = css_urls[i];\n      const element = document.createElement(\"link\");\n      element.onload = on_load;\n      element.onerror = on_error.bind(null, url);\n      element.rel = \"stylesheet\";\n      element.type = \"text/css\";\n      element.href = url;\n      console.debug(\"Bokeh: injecting link tag for BokehJS stylesheet: \", url);\n      document.body.appendChild(element);\n    }\n\n    for (let i = 0; i < js_urls.length; i++) {\n      const url = js_urls[i];\n      const element = document.createElement('script');\n      element.onload = on_load;\n      element.onerror = on_error.bind(null, url);\n      element.async = false;\n      element.src = url;\n      console.debug(\"Bokeh: injecting script tag for BokehJS library: \", url);\n      document.head.appendChild(element);\n    }\n  };\n\n  function inject_raw_css(css) {\n    const element = document.createElement(\"style\");\n    element.appendChild(document.createTextNode(css));\n    document.body.appendChild(element);\n  }\n\n  const js_urls = [\"https://cdn.bokeh.org/bokeh/release/bokeh-3.4.3.min.js\", \"https://cdn.bokeh.org/bokeh/release/bokeh-gl-3.4.3.min.js\", \"https://cdn.bokeh.org/bokeh/release/bokeh-widgets-3.4.3.min.js\", \"https://cdn.bokeh.org/bokeh/release/bokeh-tables-3.4.3.min.js\", \"https://cdn.bokeh.org/bokeh/release/bokeh-mathjax-3.4.3.min.js\"];\n  const css_urls = [];\n\n  const inline_js = [    function(Bokeh) {\n      Bokeh.set_log_level(\"info\");\n    },\nfunction(Bokeh) {\n    }\n  ];\n\n  function run_inline_js() {\n    if (root.Bokeh !== undefined || force === true) {\n      try {\n            for (let i = 0; i < inline_js.length; i++) {\n      inline_js[i].call(root, root.Bokeh);\n    }\n\n      } catch (error) {display_loaded(error);throw error;\n      }if (force === true) {\n        display_loaded();\n      }} else if (Date.now() < root._bokeh_timeout) {\n      setTimeout(run_inline_js, 100);\n    } else if (!root._bokeh_failed_load) {\n      console.log(\"Bokeh: BokehJS failed to load within specified timeout.\");\n      root._bokeh_failed_load = true;\n    } else if (force !== true) {\n      const cell = $(document.getElementById(\"fe0fa190-6640-42bb-b2da-c99572999670\")).parents('.cell').data().cell;\n      cell.output_area.append_execute_result(NB_LOAD_WARNING)\n    }\n  }\n\n  if (root._bokeh_is_loading === 0) {\n    console.debug(\"Bokeh: BokehJS loaded, going straight to plotting\");\n    run_inline_js();\n  } else {\n    load_libs(css_urls, js_urls, function() {\n      console.debug(\"Bokeh: BokehJS plotting callback run at\", now());\n      run_inline_js();\n    });\n  }\n}(window));",
      "application/vnd.bokehjs_load.v0+json": ""
     },
     "metadata": {},
     "output_type": "display_data"
    }
   ],
   "source": [
    "from matrix_table_consumer import MatrixTableConsumer, NUM_CPU\n",
    "\n",
    "vcf_big_path = \"/home/phil/GitHub/matrix_table_consumer/data/ALL.chr1.phase3_shapeit2_mvncall_integrated_v5b.20130502.genotypes.vcf.gz\"\n",
    "vcz_path = \"/home/phil/GitHub/matrix_table_consumer/data/test.vcz\"\n",
    "\n",
    "consumer = MatrixTableConsumer(vcf_path=vcf_big_path)"
   ]
  },
  {
   "cell_type": "code",
   "execution_count": null,
   "id": "d69f9e2d",
   "metadata": {},
   "outputs": [],
   "source": [
    "import numpy as np\n",
    "\n",
    "\n",
    "data = consumer.load_zarr_data(vcz_path=vcz_path)\n",
    "\n",
    "genotypes = data[\"call_genotype\"]\n",
    "n_variants, n_samples, _ = genotypes.shape\n",
    "\n",
    "phenotypes = np.random.normal(0, 1, n_samples)\n",
    "covariates = np.random.normal(0, 1, (n_samples, 2))  # 2 ковариаты"
   ]
  },
  {
   "cell_type": "code",
   "execution_count": null,
   "id": "d8d93de1",
   "metadata": {},
   "outputs": [
    {
     "name": "stderr",
     "output_type": "stream",
     "text": [
      "Processing chunks:   0%|          | 0/5000 [00:00<?, ?it/s]"
     ]
    },
    {
     "name": "stderr",
     "output_type": "stream",
     "text": [
      "Processing chunks: 100%|██████████| 5000/5000 [01:18<00:00, 63.38it/s]"
     ]
    },
    {
     "name": "stdout",
     "output_type": "stream",
     "text": [
      "Of 4988 significant variants found (p < 0.05): 305\n"
     ]
    },
    {
     "name": "stderr",
     "output_type": "stream",
     "text": [
      "\n"
     ]
    }
   ],
   "source": [
    "gwas_df = consumer.run_gwas(data, phenotypes, covariates)"
   ]
  },
  {
   "cell_type": "code",
   "execution_count": null,
   "id": "c5edd3f3",
   "metadata": {},
   "outputs": [
    {
     "data": {
      "text/html": [
       "<div>\n",
       "<style scoped>\n",
       "    .dataframe tbody tr th:only-of-type {\n",
       "        vertical-align: middle;\n",
       "    }\n",
       "\n",
       "    .dataframe tbody tr th {\n",
       "        vertical-align: top;\n",
       "    }\n",
       "\n",
       "    .dataframe thead th {\n",
       "        text-align: right;\n",
       "    }\n",
       "</style>\n",
       "<table border=\"1\" class=\"dataframe\">\n",
       "  <thead>\n",
       "    <tr style=\"text-align: right;\">\n",
       "      <th></th>\n",
       "      <th>variant_index</th>\n",
       "      <th>variant_id</th>\n",
       "      <th>beta</th>\n",
       "      <th>se</th>\n",
       "      <th>p_value</th>\n",
       "      <th>t_stat</th>\n",
       "      <th>maf</th>\n",
       "    </tr>\n",
       "  </thead>\n",
       "  <tbody>\n",
       "    <tr>\n",
       "      <th>0</th>\n",
       "      <td>0</td>\n",
       "      <td>.</td>\n",
       "      <td>-0.028931</td>\n",
       "      <td>0.032327</td>\n",
       "      <td>0.370891</td>\n",
       "      <td>-0.894967</td>\n",
       "      <td>0.425319</td>\n",
       "    </tr>\n",
       "    <tr>\n",
       "      <th>1</th>\n",
       "      <td>1</td>\n",
       "      <td>.</td>\n",
       "      <td>-0.392726</td>\n",
       "      <td>0.409082</td>\n",
       "      <td>0.337139</td>\n",
       "      <td>-0.960017</td>\n",
       "      <td>0.001198</td>\n",
       "    </tr>\n",
       "    <tr>\n",
       "      <th>2</th>\n",
       "      <td>2</td>\n",
       "      <td>.</td>\n",
       "      <td>-0.077935</td>\n",
       "      <td>0.047707</td>\n",
       "      <td>0.102462</td>\n",
       "      <td>-1.633631</td>\n",
       "      <td>0.437500</td>\n",
       "    </tr>\n",
       "    <tr>\n",
       "      <th>3</th>\n",
       "      <td>3</td>\n",
       "      <td>.</td>\n",
       "      <td>0.769047</td>\n",
       "      <td>1.001260</td>\n",
       "      <td>0.442513</td>\n",
       "      <td>0.768079</td>\n",
       "      <td>0.000200</td>\n",
       "    </tr>\n",
       "    <tr>\n",
       "      <th>4</th>\n",
       "      <td>4</td>\n",
       "      <td>.</td>\n",
       "      <td>0.769047</td>\n",
       "      <td>1.001260</td>\n",
       "      <td>0.442513</td>\n",
       "      <td>0.768079</td>\n",
       "      <td>0.000200</td>\n",
       "    </tr>\n",
       "    <tr>\n",
       "      <th>...</th>\n",
       "      <td>...</td>\n",
       "      <td>...</td>\n",
       "      <td>...</td>\n",
       "      <td>...</td>\n",
       "      <td>...</td>\n",
       "      <td>...</td>\n",
       "      <td>...</td>\n",
       "    </tr>\n",
       "    <tr>\n",
       "      <th>4983</th>\n",
       "      <td>4995</td>\n",
       "      <td>.</td>\n",
       "      <td>-0.019695</td>\n",
       "      <td>0.055557</td>\n",
       "      <td>0.722994</td>\n",
       "      <td>-0.354500</td>\n",
       "      <td>0.068091</td>\n",
       "    </tr>\n",
       "    <tr>\n",
       "      <th>4984</th>\n",
       "      <td>4996</td>\n",
       "      <td>.</td>\n",
       "      <td>-0.053789</td>\n",
       "      <td>0.302762</td>\n",
       "      <td>0.859003</td>\n",
       "      <td>-0.177662</td>\n",
       "      <td>0.002196</td>\n",
       "    </tr>\n",
       "    <tr>\n",
       "      <th>4985</th>\n",
       "      <td>4997</td>\n",
       "      <td>.</td>\n",
       "      <td>-2.272777</td>\n",
       "      <td>0.999828</td>\n",
       "      <td>0.023101</td>\n",
       "      <td>-2.273168</td>\n",
       "      <td>0.000200</td>\n",
       "    </tr>\n",
       "    <tr>\n",
       "      <th>4986</th>\n",
       "      <td>4998</td>\n",
       "      <td>.</td>\n",
       "      <td>0.056547</td>\n",
       "      <td>0.035874</td>\n",
       "      <td>0.115085</td>\n",
       "      <td>1.576293</td>\n",
       "      <td>0.189497</td>\n",
       "    </tr>\n",
       "    <tr>\n",
       "      <th>4987</th>\n",
       "      <td>4999</td>\n",
       "      <td>.</td>\n",
       "      <td>-0.011308</td>\n",
       "      <td>0.042377</td>\n",
       "      <td>0.789619</td>\n",
       "      <td>-0.266834</td>\n",
       "      <td>0.167532</td>\n",
       "    </tr>\n",
       "  </tbody>\n",
       "</table>\n",
       "<p>4988 rows × 7 columns</p>\n",
       "</div>"
      ],
      "text/plain": [
       "      variant_index variant_id      beta        se   p_value    t_stat  \\\n",
       "0                 0          . -0.028931  0.032327  0.370891 -0.894967   \n",
       "1                 1          . -0.392726  0.409082  0.337139 -0.960017   \n",
       "2                 2          . -0.077935  0.047707  0.102462 -1.633631   \n",
       "3                 3          .  0.769047  1.001260  0.442513  0.768079   \n",
       "4                 4          .  0.769047  1.001260  0.442513  0.768079   \n",
       "...             ...        ...       ...       ...       ...       ...   \n",
       "4983           4995          . -0.019695  0.055557  0.722994 -0.354500   \n",
       "4984           4996          . -0.053789  0.302762  0.859003 -0.177662   \n",
       "4985           4997          . -2.272777  0.999828  0.023101 -2.273168   \n",
       "4986           4998          .  0.056547  0.035874  0.115085  1.576293   \n",
       "4987           4999          . -0.011308  0.042377  0.789619 -0.266834   \n",
       "\n",
       "           maf  \n",
       "0     0.425319  \n",
       "1     0.001198  \n",
       "2     0.437500  \n",
       "3     0.000200  \n",
       "4     0.000200  \n",
       "...        ...  \n",
       "4983  0.068091  \n",
       "4984  0.002196  \n",
       "4985  0.000200  \n",
       "4986  0.189497  \n",
       "4987  0.167532  \n",
       "\n",
       "[4988 rows x 7 columns]"
      ]
     },
     "execution_count": 4,
     "metadata": {},
     "output_type": "execute_result"
    }
   ],
   "source": [
    "gwas_df"
   ]
  }
 ],
 "metadata": {
  "kernelspec": {
   "display_name": "matrix_table_consumer",
   "language": "python",
   "name": "python3"
  },
  "language_info": {
   "codemirror_mode": {
    "name": "ipython",
    "version": 3
   },
   "file_extension": ".py",
   "mimetype": "text/x-python",
   "name": "python",
   "nbconvert_exporter": "python",
   "pygments_lexer": "ipython3",
   "version": "3.12.11"
  }
 },
 "nbformat": 4,
 "nbformat_minor": 5
}
