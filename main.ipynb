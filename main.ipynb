{
 "cells": [
  {
   "cell_type": "markdown",
   "id": "80b1d43e",
   "metadata": {},
   "source": [
    "#####################################################\n",
    "\n",
    "#### To compile Go modules with C types to work with Python run:\n",
    "#### go build -o functions.so -buildmode=c-shared functions/functions.go\n",
    "\n",
    "#####################################################"
   ]
  },
  {
   "cell_type": "markdown",
   "id": "e4eab841",
   "metadata": {},
   "source": [
    "# Main function"
   ]
  },
  {
   "cell_type": "code",
   "execution_count": null,
   "id": "26c824ba",
   "metadata": {},
   "outputs": [
    {
     "name": "stderr",
     "output_type": "stream",
     "text": [
      "/home/froschin/mambaforge/envs/hail/lib/python3.12/site-packages/hail/context.py:354: UserWarning:\n",
      "\n",
      "Using hl.init with a default_reference argument is deprecated. To set a default reference genome after initializing hail, call `hl.default_reference` with an argument to set the default reference genome.\n",
      "\n",
      "pip-installed Hail requires additional configuration options in Spark referring\n",
      "  to the path to the Hail Python module directory HAIL_DIR,\n",
      "  e.g. /path/to/python/site-packages/hail:\n",
      "    spark.jars=HAIL_DIR/backend/hail-all-spark.jar\n",
      "    spark.driver.extraClassPath=HAIL_DIR/backend/hail-all-spark.jar\n",
      "    spark.executor.extraClassPath=./hail-all-spark.jarRunning on Apache Spark version 3.5.6\n",
      "SparkUI available at http://10.200.8.19:4041\n",
      "Welcome to\n",
      "     __  __     <>__\n",
      "    / /_/ /__  __/ /\n",
      "   / __  / _ `/ / /\n",
      "  /_/ /_/\\_,_/_/_/   version 0.2.135-034ef3e08116\n",
      "LOGGING: writing to /home/froschin/work/hail/hail-20250821-2007-0.2.135-034ef3e08116.log\n"
     ]
    },
    {
     "name": "stderr",
     "output_type": "stream",
     "text": [
      "2025-08-21 20:08:05.335 Hail: WARN: You are trying to read /home/froschin/work/hail/data/subset.vcf with *ONE* core of parallelism. This will be very slow. If this file is block-gzipped (bgzip-ed), use force_bgz=True instead.\n",
      "2025-08-21 20:08:08.654 Hail: INFO: scanning VCF for sortedness...\n",
      "2025-08-21 20:08:13.228 Hail: INFO: Coerced sorted VCF - no additional import work to do\n",
      "2025-08-21 20:08:38.047 Hail: INFO: wrote matrix table with 16028 rows and 836 columns in 3 partitions to /home/froschin/work/hail/data/matrix_table.mt\n"
     ]
    }
   ],
   "source": [
    "import os\n",
    "import sys\n",
    "\n",
    "import hail as hl\n",
    "import pyspark\n",
    "\n",
    "\n",
    "hail_jars = os.path.join(\n",
    "    os.sep.join(sys.executable.split(os.sep)[:6]),\n",
    "    \"lib\",\n",
    "    f\"python{sys.version_info.major}.{sys.version_info.minor}\",\n",
    "    \"site-packages\",\n",
    "    \"hail\",\n",
    "    \"backend\",\n",
    "    \"hail-all-spark.jar\",\n",
    ")\n",
    "\n",
    "CONF = pyspark.SparkConf().setAll(\n",
    "    [\n",
    "        (\"spark.master\", f\"local[{20}]\"),\n",
    "        (\"spark.app.name\", \"Hail_demonstration\"),\n",
    "        (\"spark.jars\", hail_jars),\n",
    "        (\"spark.driver.extraClassPath\", hail_jars),\n",
    "        (\"spark.driver.memory\", \"30g\"),\n",
    "        (\"spark.executor.extraClassPath\", \"./hail-all-spark.jar\"),\n",
    "        (\"spark.serializer\", \"org.apache.spark.serializer.KryoSerializer\"),\n",
    "        (\"spark.kryo.registrator\", \"is.hail.kryo.HailKryoRegistrator\"),\n",
    "    ]\n",
    ")\n",
    "\n",
    "sc = pyspark.SparkContext(conf=CONF)\n",
    "\n",
    "hl.init(default_reference=\"GRCh38\", sc=sc)"
   ]
  },
  {
   "cell_type": "code",
   "execution_count": 8,
   "id": "7b05946c",
   "metadata": {},
   "outputs": [],
   "source": [
    "from matrix_table_consumer import MatrixTableConsumer"
   ]
  },
  {
   "cell_type": "code",
   "execution_count": 9,
   "id": "8e5ced2a",
   "metadata": {},
   "outputs": [],
   "source": [
    "vcf_mini_path = \"/home/froschin/work/hail/data/test_vcf_for_hail.vcf\"  # GRCh37\n",
    "vcf_subset_path = \"/home/froschin/work/hail/data/subset.vcf\"  # GRCh38\n",
    "vcf_big_path = \"/mnt/Storage/testdata/Temp/kirillovba_ethno/P2.vcf.gz\"  # GRCh38\n",
    "\n",
    "matrix_table_path = \"/home/froschin/work/hail/data/matrix_table.mt\"\n",
    "json_path = \"/home/froschin/work/hail/data/matrix.json\""
   ]
  },
  {
   "cell_type": "code",
   "execution_count": 10,
   "id": "8b98c039",
   "metadata": {},
   "outputs": [
    {
     "name": "stderr",
     "output_type": "stream",
     "text": [
      "WARNING: An illegal reflective access operation has occurred\n",
      "WARNING: Illegal reflective access by org.apache.spark.util.SizeEstimator$ (file:/home/froschin/mambaforge/envs/hail/lib/python3.12/site-packages/pyspark/jars/spark-core_2.12-3.5.6.jar) to field java.lang.ref.Reference.referent\n",
      "WARNING: Please consider reporting this to the maintainers of org.apache.spark.util.SizeEstimator$\n",
      "WARNING: Use --illegal-access=warn to enable warnings of further illegal reflective access operations\n",
      "WARNING: All illegal access operations will be denied in a future release\n",
      "                                                                                \r"
     ]
    },
    {
     "data": {
      "text/html": [
       "<table><thead><tr><td style=\"white-space: nowrap; max-width: 500px; overflow: hidden; text-overflow: ellipsis; \" colspan=\"1\"><div style=\"text-align: left;\"></div></td><td style=\"white-space: nowrap; max-width: 500px; overflow: hidden; text-overflow: ellipsis; \" colspan=\"1\"><div style=\"text-align: left;\"></div></td></tr><tr><td style=\"white-space: nowrap; max-width: 500px; overflow: hidden; text-overflow: ellipsis; \" colspan=\"1\"><div style=\"text-align: left;border-bottom: solid 2px #000; padding-bottom: 5px\">locus</div></td><td style=\"white-space: nowrap; max-width: 500px; overflow: hidden; text-overflow: ellipsis; \" colspan=\"1\"><div style=\"text-align: left;border-bottom: solid 2px #000; padding-bottom: 5px\">alleles</div></td></tr><tr><td style=\"white-space: nowrap; max-width: 500px; overflow: hidden; text-overflow: ellipsis; text-align: left;\">locus&lt;GRCh38&gt;</td><td style=\"white-space: nowrap; max-width: 500px; overflow: hidden; text-overflow: ellipsis; text-align: left;\">array&lt;str&gt;</td></tr>\n",
       "</thead><tbody><tr><td style=\"white-space: nowrap; max-width: 500px; overflow: hidden; text-overflow: ellipsis; \">chr1:1161907</td><td style=\"white-space: nowrap; max-width: 500px; overflow: hidden; text-overflow: ellipsis; \">[&quot;T&quot;,&quot;C&quot;]</td></tr>\n",
       "<tr><td style=\"white-space: nowrap; max-width: 500px; overflow: hidden; text-overflow: ellipsis; \">chr1:1361836</td><td style=\"white-space: nowrap; max-width: 500px; overflow: hidden; text-overflow: ellipsis; \">[&quot;A&quot;,&quot;G&quot;]</td></tr>\n",
       "<tr><td style=\"white-space: nowrap; max-width: 500px; overflow: hidden; text-overflow: ellipsis; \">chr1:1716247</td><td style=\"white-space: nowrap; max-width: 500px; overflow: hidden; text-overflow: ellipsis; \">[&quot;A&quot;,&quot;C&quot;]</td></tr>\n",
       "<tr><td style=\"white-space: nowrap; max-width: 500px; overflow: hidden; text-overflow: ellipsis; \">chr1:1734301</td><td style=\"white-space: nowrap; max-width: 500px; overflow: hidden; text-overflow: ellipsis; \">[&quot;T&quot;,&quot;C&quot;]</td></tr>\n",
       "<tr><td style=\"white-space: nowrap; max-width: 500px; overflow: hidden; text-overflow: ellipsis; \">chr1:2109497</td><td style=\"white-space: nowrap; max-width: 500px; overflow: hidden; text-overflow: ellipsis; \">[&quot;T&quot;,&quot;C&quot;]</td></tr>\n",
       "<tr><td style=\"white-space: nowrap; max-width: 500px; overflow: hidden; text-overflow: ellipsis; \">chr1:4323996</td><td style=\"white-space: nowrap; max-width: 500px; overflow: hidden; text-overflow: ellipsis; \">[&quot;C&quot;,&quot;T&quot;]</td></tr>\n",
       "<tr><td style=\"white-space: nowrap; max-width: 500px; overflow: hidden; text-overflow: ellipsis; \">chr1:4437070</td><td style=\"white-space: nowrap; max-width: 500px; overflow: hidden; text-overflow: ellipsis; \">[&quot;G&quot;,&quot;A&quot;]</td></tr>\n",
       "<tr><td style=\"white-space: nowrap; max-width: 500px; overflow: hidden; text-overflow: ellipsis; \">chr1:4537795</td><td style=\"white-space: nowrap; max-width: 500px; overflow: hidden; text-overflow: ellipsis; \">[&quot;T&quot;,&quot;C&quot;]</td></tr>\n",
       "<tr><td style=\"white-space: nowrap; max-width: 500px; overflow: hidden; text-overflow: ellipsis; \">chr1:4597062</td><td style=\"white-space: nowrap; max-width: 500px; overflow: hidden; text-overflow: ellipsis; \">[&quot;G&quot;,&quot;A&quot;]</td></tr>\n",
       "<tr><td style=\"white-space: nowrap; max-width: 500px; overflow: hidden; text-overflow: ellipsis; \">chr1:4934881</td><td style=\"white-space: nowrap; max-width: 500px; overflow: hidden; text-overflow: ellipsis; \">[&quot;G&quot;,&quot;A&quot;]</td></tr>\n",
       "</tbody></table><p style=\"background: #fdd; padding: 0.4em;\">showing top 10 rows</p>\n",
       "<p style=\"background: #fdd; padding: 0.4em;\">showing the first 0 of 836 columns</p>\n"
      ],
      "text/plain": [
       "+---------------+------------+\n",
       "| locus         | alleles    |\n",
       "+---------------+------------+\n",
       "| locus<GRCh38> | array<str> |\n",
       "+---------------+------------+\n",
       "| chr1:1161907  | [\"T\",\"C\"]  |\n",
       "| chr1:1361836  | [\"A\",\"G\"]  |\n",
       "| chr1:1716247  | [\"A\",\"C\"]  |\n",
       "| chr1:1734301  | [\"T\",\"C\"]  |\n",
       "| chr1:2109497  | [\"T\",\"C\"]  |\n",
       "| chr1:4323996  | [\"C\",\"T\"]  |\n",
       "| chr1:4437070  | [\"G\",\"A\"]  |\n",
       "| chr1:4537795  | [\"T\",\"C\"]  |\n",
       "| chr1:4597062  | [\"G\",\"A\"]  |\n",
       "| chr1:4934881  | [\"G\",\"A\"]  |\n",
       "+---------------+------------+\n",
       "showing top 10 rows\n",
       "showing the first 0 of 836 columns"
      ]
     },
     "metadata": {},
     "output_type": "display_data"
    }
   ],
   "source": [
    "mt = hl.import_vcf(\n",
    "    vcf_subset_path,\n",
    "    reference_genome=\"GRCh38\",\n",
    "    array_elements_required=False,\n",
    "    force=True,\n",
    ")\n",
    "mt.show()"
   ]
  },
  {
   "cell_type": "code",
   "execution_count": 11,
   "id": "dd190d49",
   "metadata": {},
   "outputs": [],
   "source": [
    "consumer = MatrixTableConsumer()"
   ]
  },
  {
   "cell_type": "markdown",
   "id": "057828a1",
   "metadata": {},
   "source": [
    "# Save MatrixTable"
   ]
  },
  {
   "cell_type": "code",
   "execution_count": 12,
   "id": "55633ab4",
   "metadata": {},
   "outputs": [
    {
     "name": "stdout",
     "output_type": "stream",
     "text": [
      "[21-08-2025 20:08:23] - INFO - Prepare metadata for saving\n",
      "[21-08-2025 20:08:23] - INFO - Extract fields\n",
      "[21-08-2025 20:08:23] - INFO - Extract fields end\n",
      "[21-08-2025 20:08:23] - INFO - Save json\n",
      "[21-08-2025 20:08:23] - INFO - End\n"
     ]
    }
   ],
   "source": [
    "content = {}\n",
    "content = consumer.prepare_metadata_for_saving(json_path=json_path, mt=mt)"
   ]
  },
  {
   "cell_type": "markdown",
   "id": "5f4414dc",
   "metadata": {},
   "source": [
    "# Download MatrixTable"
   ]
  },
  {
   "cell_type": "code",
   "execution_count": 13,
   "id": "9aa937af",
   "metadata": {},
   "outputs": [
    {
     "name": "stdout",
     "output_type": "stream",
     "text": [
      "[21-08-2025 20:08:26] - INFO - Prepare metadata for loading\n",
      "[21-08-2025 20:08:26] - INFO - Compress fields\n",
      "[21-08-2025 20:08:26] - INFO - Create matrix table\n"
     ]
    },
    {
     "name": "stderr",
     "output_type": "stream",
     "text": [
      "                                                                                \r"
     ]
    },
    {
     "data": {
      "text/plain": [
       "(16028, 836)"
      ]
     },
     "execution_count": 13,
     "metadata": {},
     "output_type": "execute_result"
    }
   ],
   "source": [
    "mt_new = consumer.prepare_metadata_for_loading(json_path=json_path)\n",
    "\n",
    "mt_new.write(matrix_table_path, overwrite=True)\n",
    "mt_new.count()"
   ]
  },
  {
   "cell_type": "markdown",
   "id": "185be466",
   "metadata": {},
   "source": [
    "# Collect rows"
   ]
  },
  {
   "cell_type": "code",
   "execution_count": 14,
   "id": "7621c781",
   "metadata": {},
   "outputs": [
    {
     "name": "stdout",
     "output_type": "stream",
     "text": [
      "[21-08-2025 20:08:47] - INFO - Collecting data\n",
      "[21-08-2025 20:08:47] - INFO - Finish\n"
     ]
    },
    {
     "data": {
      "text/plain": [
       "[{'POS': 10018,\n",
       "  'QUAL': 12,\n",
       "  'CHROM': 'chr1',\n",
       "  'ID': 'chr1_10018_C_CT',\n",
       "  'REF': 'C',\n",
       "  'ALT': 'CT',\n",
       "  'FILTER': '.',\n",
       "  'INFO': 'AF=0.00130719;AQ=12;NS=765;AN=1530;MAF=0.00130719;AC=2;AC_Het=0;AC_Hom=2;AC_Hemi=0;HWE=0.000654022;ExcHet=1'},\n",
       " {'POS': 10048,\n",
       "  'QUAL': 10,\n",
       "  'CHROM': 'chr1',\n",
       "  'ID': 'chr1_10048_CT_C',\n",
       "  'REF': 'CT',\n",
       "  'ALT': 'C',\n",
       "  'FILTER': '.',\n",
       "  'INFO': 'AF=0.00622776;AQ=10;NS=562;AN=1124;MAF=0.00622776;AC=7;AC_Het=7;AC_Hom=0;AC_Hemi=0;HWE=1;ExcHet=0.981383'},\n",
       " {'POS': 10054,\n",
       "  'QUAL': 11,\n",
       "  'CHROM': 'chr1',\n",
       "  'ID': 'chr1_10054_C_T',\n",
       "  'REF': 'C',\n",
       "  'ALT': 'T',\n",
       "  'FILTER': '.',\n",
       "  'INFO': 'AF=0.000740741;AQ=11;NS=675;AN=1350;MAF=0.000740741;AC=1;AC_Het=1;AC_Hom=0;AC_Hemi=0;HWE=1;ExcHet=1'},\n",
       " {'POS': 10060,\n",
       "  'QUAL': 11,\n",
       "  'CHROM': 'chr1',\n",
       "  'ID': 'chr1_10060_C_CT',\n",
       "  'REF': 'C',\n",
       "  'ALT': 'CT',\n",
       "  'FILTER': '.',\n",
       "  'INFO': 'AF=0.000725689;AQ=11;NS=689;AN=1378;MAF=0.000725689;AC=1;AC_Het=1;AC_Hom=0;AC_Hemi=0;HWE=1;ExcHet=1'},\n",
       " {'POS': 10072,\n",
       "  'QUAL': 12,\n",
       "  'CHROM': 'chr1',\n",
       "  'ID': 'chr1_10072_C_CT',\n",
       "  'REF': 'C',\n",
       "  'ALT': 'CT',\n",
       "  'FILTER': '.',\n",
       "  'INFO': 'AF=0.000662252;AQ=12;NS=755;AN=1510;MAF=0.000662252;AC=1;AC_Het=1;AC_Hom=0;AC_Hemi=0;HWE=1;ExcHet=1'}]"
      ]
     },
     "execution_count": 14,
     "metadata": {},
     "output_type": "execute_result"
    }
   ],
   "source": [
    "consumer = MatrixTableConsumer()\n",
    "rows = consumer.collect(num_rows=1000, vcf_path=vcf_big_path, is_gzip=True)\n",
    "rows[:5]"
   ]
  },
  {
   "cell_type": "code",
   "execution_count": 15,
   "id": "949bd60e",
   "metadata": {},
   "outputs": [
    {
     "name": "stdout",
     "output_type": "stream",
     "text": [
      "[21-08-2025 20:08:52] - INFO - Collecting data\n",
      "[21-08-2025 20:08:52] - INFO - Finish\n"
     ]
    },
    {
     "data": {
      "text/plain": [
       "[{'POS': 338615,\n",
       "  'QUAL': 90,\n",
       "  'CHROM': '1',\n",
       "  'ID': '2659854',\n",
       "  'REF': 'G',\n",
       "  'ALT': 'A',\n",
       "  'FILTER': '.',\n",
       "  'INFO': 'ALLELEID=2823725;CLNDISDB=MedGen:C3661900;CLNDN=not_provided;CLNHGVS=NC_000024.10:g.338615G>A;CLNREVSTAT=criteria_provided,_single_submitter;CLNSIG=Likely_benign;CLNSIGSCV=SCV004164128;CLNVC=single_nucleotide_variant;CLNVCSO=SO:0001483;CLNVI=ClinGen:CA10328741;GENEINFO=PPP2R3B:28227;MC=SO:0001819|synonymous_variant;ORIGIN=1;RS=773605704'}]"
      ]
     },
     "execution_count": 15,
     "metadata": {},
     "output_type": "execute_result"
    }
   ],
   "source": [
    "consumer = MatrixTableConsumer()\n",
    "rows = consumer.collect(num_rows=1, vcf_path=vcf_mini_path, is_gzip=False)\n",
    "rows"
   ]
  },
  {
   "cell_type": "code",
   "execution_count": 16,
   "id": "aa418605",
   "metadata": {},
   "outputs": [
    {
     "name": "stdout",
     "output_type": "stream",
     "text": [
      "[21-08-2025 20:08:57] - INFO - Collecting data\n",
      "[21-08-2025 20:08:58] - INFO - Finish\n"
     ]
    },
    {
     "data": {
      "text/plain": [
       "[{'POS': 1161907,\n",
       "  'QUAL': 76,\n",
       "  'CHROM': 'chr1',\n",
       "  'ID': 'chr1_1161907_T_C',\n",
       "  'REF': 'T',\n",
       "  'ALT': 'C',\n",
       "  'FILTER': 'PASS',\n",
       "  'INFO': 'AF=0.909856;AQ=76;NS=832;AN=1664;MAF=0.0901442;AC=1514;AC_Het=128;AC_Hom=1386;AC_Hemi=0;HWE=0.0867318;ExcHet=0.9724'},\n",
       " {'POS': 1361836,\n",
       "  'QUAL': 78,\n",
       "  'CHROM': 'chr1',\n",
       "  'ID': 'chr1_1361836_A_G',\n",
       "  'REF': 'A',\n",
       "  'ALT': 'G',\n",
       "  'FILTER': 'PASS',\n",
       "  'INFO': 'AF=0.906587;AQ=78;NS=835;AN=1670;MAF=0.0934132;AC=1514;AC_Het=134;AC_Hom=1380;AC_Hemi=0;HWE=0.14797;ExcHet=0.952941'}]"
      ]
     },
     "execution_count": 16,
     "metadata": {},
     "output_type": "execute_result"
    }
   ],
   "source": [
    "rows = consumer.collect_all(vcf_path=vcf_subset_path, is_gzip=False)\n",
    "rows[:2]"
   ]
  },
  {
   "cell_type": "code",
   "execution_count": 17,
   "id": "160b91b3",
   "metadata": {},
   "outputs": [
    {
     "name": "stdout",
     "output_type": "stream",
     "text": [
      "[21-08-2025 20:09:02] - INFO - Collecting data\n",
      "[21-08-2025 20:09:03] - INFO - Finish\n"
     ]
    },
    {
     "name": "stderr",
     "output_type": "stream",
     "text": [
      "reading standard input: bufio.Scanner: token too long"
     ]
    },
    {
     "data": {
      "text/plain": [
       "[{'POS': 10018,\n",
       "  'QUAL': 12,\n",
       "  'CHROM': 'chr1',\n",
       "  'ID': 'chr1_10018_C_CT',\n",
       "  'REF': 'C',\n",
       "  'ALT': 'CT',\n",
       "  'FILTER': '.',\n",
       "  'INFO': 'AF=0.00130719;AQ=12;NS=765;AN=1530;MAF=0.00130719;AC=2;AC_Het=0;AC_Hom=2;AC_Hemi=0;HWE=0.000654022;ExcHet=1'},\n",
       " {'POS': 10048,\n",
       "  'QUAL': 10,\n",
       "  'CHROM': 'chr1',\n",
       "  'ID': 'chr1_10048_CT_C',\n",
       "  'REF': 'CT',\n",
       "  'ALT': 'C',\n",
       "  'FILTER': '.',\n",
       "  'INFO': 'AF=0.00622776;AQ=10;NS=562;AN=1124;MAF=0.00622776;AC=7;AC_Het=7;AC_Hom=0;AC_Hemi=0;HWE=1;ExcHet=0.981383'}]"
      ]
     },
     "execution_count": 17,
     "metadata": {},
     "output_type": "execute_result"
    }
   ],
   "source": [
    "rows = consumer.collect_all(vcf_path=vcf_big_path, is_gzip=True)\n",
    "rows[:2]"
   ]
  },
  {
   "cell_type": "code",
   "execution_count": 18,
   "id": "db6e1b87",
   "metadata": {},
   "outputs": [
    {
     "name": "stdout",
     "output_type": "stream",
     "text": [
      "7409\n"
     ]
    }
   ],
   "source": [
    "print(len(rows))"
   ]
  },
  {
   "cell_type": "code",
   "execution_count": 19,
   "id": "d4138586",
   "metadata": {},
   "outputs": [
    {
     "data": {
      "text/plain": [
       "[Struct(locus=Locus(contig=chr1, position=10018, reference_genome=GRCh38), alleles=['C', 'CT'], rsid='chr1_10018_C_CT', qual=12, filters=None, info=Struct(info='AF=0.00130719;AQ=12;NS=765;AN=1530;MAF=0.00130719;AC=2;AC_Het=0;AC_Hom=2;AC_Hemi=0;HWE=0.000654022;ExcHet=1'), entries=[]),\n",
       " Struct(locus=Locus(contig=chr1, position=10048, reference_genome=GRCh38), alleles=['CT', 'C'], rsid='chr1_10048_CT_C', qual=10, filters=None, info=Struct(info='AF=0.00622776;AQ=10;NS=562;AN=1124;MAF=0.00622776;AC=7;AC_Het=7;AC_Hom=0;AC_Hemi=0;HWE=1;ExcHet=0.981383'), entries=[]),\n",
       " Struct(locus=Locus(contig=chr1, position=10054, reference_genome=GRCh38), alleles=['C', 'T'], rsid='chr1_10054_C_T', qual=11, filters=None, info=Struct(info='AF=0.000740741;AQ=11;NS=675;AN=1350;MAF=0.000740741;AC=1;AC_Het=1;AC_Hom=0;AC_Hemi=0;HWE=1;ExcHet=1'), entries=[]),\n",
       " Struct(locus=Locus(contig=chr1, position=10060, reference_genome=GRCh38), alleles=['C', 'CT'], rsid='chr1_10060_C_CT', qual=11, filters=None, info=Struct(info='AF=0.000725689;AQ=11;NS=689;AN=1378;MAF=0.000725689;AC=1;AC_Het=1;AC_Hom=0;AC_Hemi=0;HWE=1;ExcHet=1'), entries=[]),\n",
       " Struct(locus=Locus(contig=chr1, position=10072, reference_genome=GRCh38), alleles=['C', 'CT'], rsid='chr1_10072_C_CT', qual=12, filters=None, info=Struct(info='AF=0.000662252;AQ=12;NS=755;AN=1510;MAF=0.000662252;AC=1;AC_Het=1;AC_Hom=0;AC_Hemi=0;HWE=1;ExcHet=1'), entries=[])]"
      ]
     },
     "execution_count": 19,
     "metadata": {},
     "output_type": "execute_result"
    }
   ],
   "source": [
    "rows_hail = consumer.convert_rows_to_hail(rows=rows, reference_genome=\"GRCh38\")\n",
    "rows_hail[:5]"
   ]
  },
  {
   "cell_type": "code",
   "execution_count": 20,
   "id": "479be5e6",
   "metadata": {},
   "outputs": [
    {
     "data": {
      "text/html": [
       "<table><thead><tr><td style=\"white-space: nowrap; max-width: 500px; overflow: hidden; text-overflow: ellipsis; \" colspan=\"1\"><div style=\"text-align: left;\"></div></td><td style=\"white-space: nowrap; max-width: 500px; overflow: hidden; text-overflow: ellipsis; \" colspan=\"1\"><div style=\"text-align: left;\"></div></td><td style=\"white-space: nowrap; max-width: 500px; overflow: hidden; text-overflow: ellipsis; \" colspan=\"1\"><div style=\"text-align: left;\"></div></td><td style=\"white-space: nowrap; max-width: 500px; overflow: hidden; text-overflow: ellipsis; \" colspan=\"1\"><div style=\"text-align: left;\"></div></td><td style=\"white-space: nowrap; max-width: 500px; overflow: hidden; text-overflow: ellipsis; \" colspan=\"1\"><div style=\"text-align: left;\"></div></td><td style=\"white-space: nowrap; max-width: 500px; overflow: hidden; text-overflow: ellipsis; \" colspan=\"1\"><div style=\"text-align: left;\"></div></td><td style=\"white-space: nowrap; max-width: 500px; overflow: hidden; text-overflow: ellipsis; \" colspan=\"1\"><div style=\"text-align: left;\"></div></td></tr><tr><td style=\"white-space: nowrap; max-width: 500px; overflow: hidden; text-overflow: ellipsis; \" colspan=\"1\"><div style=\"text-align: left;\"></div></td><td style=\"white-space: nowrap; max-width: 500px; overflow: hidden; text-overflow: ellipsis; \" colspan=\"1\"><div style=\"text-align: left;\"></div></td><td style=\"white-space: nowrap; max-width: 500px; overflow: hidden; text-overflow: ellipsis; \" colspan=\"1\"><div style=\"text-align: left;\"></div></td><td style=\"white-space: nowrap; max-width: 500px; overflow: hidden; text-overflow: ellipsis; \" colspan=\"1\"><div style=\"text-align: left;\"></div></td><td style=\"white-space: nowrap; max-width: 500px; overflow: hidden; text-overflow: ellipsis; \" colspan=\"1\"><div style=\"text-align: left;\"></div></td><td style=\"white-space: nowrap; max-width: 500px; overflow: hidden; text-overflow: ellipsis; \" colspan=\"1\"><div style=\"text-align: left;border-bottom: solid 2px #000; padding-bottom: 5px\">info</div></td><td style=\"white-space: nowrap; max-width: 500px; overflow: hidden; text-overflow: ellipsis; \" colspan=\"1\"><div style=\"text-align: left;\"></div></td></tr><tr><td style=\"white-space: nowrap; max-width: 500px; overflow: hidden; text-overflow: ellipsis; \" colspan=\"1\"><div style=\"text-align: left;border-bottom: solid 2px #000; padding-bottom: 5px\">locus</div></td><td style=\"white-space: nowrap; max-width: 500px; overflow: hidden; text-overflow: ellipsis; \" colspan=\"1\"><div style=\"text-align: left;border-bottom: solid 2px #000; padding-bottom: 5px\">alleles</div></td><td style=\"white-space: nowrap; max-width: 500px; overflow: hidden; text-overflow: ellipsis; \" colspan=\"1\"><div style=\"text-align: left;border-bottom: solid 2px #000; padding-bottom: 5px\">rsid</div></td><td style=\"white-space: nowrap; max-width: 500px; overflow: hidden; text-overflow: ellipsis; \" colspan=\"1\"><div style=\"text-align: left;border-bottom: solid 2px #000; padding-bottom: 5px\">qual</div></td><td style=\"white-space: nowrap; max-width: 500px; overflow: hidden; text-overflow: ellipsis; \" colspan=\"1\"><div style=\"text-align: left;border-bottom: solid 2px #000; padding-bottom: 5px\">filters</div></td><td style=\"white-space: nowrap; max-width: 500px; overflow: hidden; text-overflow: ellipsis; \" colspan=\"1\"><div style=\"text-align: left;border-bottom: solid 2px #000; padding-bottom: 5px\">info</div></td><td style=\"white-space: nowrap; max-width: 500px; overflow: hidden; text-overflow: ellipsis; \" colspan=\"1\"><div style=\"text-align: left;border-bottom: solid 2px #000; padding-bottom: 5px\">entries</div></td></tr><tr><td style=\"white-space: nowrap; max-width: 500px; overflow: hidden; text-overflow: ellipsis; text-align: left;\">locus&lt;GRCh38&gt;</td><td style=\"white-space: nowrap; max-width: 500px; overflow: hidden; text-overflow: ellipsis; text-align: left;\">array&lt;str&gt;</td><td style=\"white-space: nowrap; max-width: 500px; overflow: hidden; text-overflow: ellipsis; text-align: left;\">str</td><td style=\"white-space: nowrap; max-width: 500px; overflow: hidden; text-overflow: ellipsis; text-align: left;\">int32</td><td style=\"white-space: nowrap; max-width: 500px; overflow: hidden; text-overflow: ellipsis; text-align: left;\">str</td><td style=\"white-space: nowrap; max-width: 500px; overflow: hidden; text-overflow: ellipsis; text-align: left;\">str</td><td style=\"white-space: nowrap; max-width: 500px; overflow: hidden; text-overflow: ellipsis; text-align: left;\">array&lt;struct{}&gt;</td></tr>\n",
       "</thead><tbody><tr><td style=\"white-space: nowrap; max-width: 500px; overflow: hidden; text-overflow: ellipsis; \">chr1:10018</td><td style=\"white-space: nowrap; max-width: 500px; overflow: hidden; text-overflow: ellipsis; \">[&quot;C&quot;,&quot;CT&quot;]</td><td style=\"white-space: nowrap; max-width: 500px; overflow: hidden; text-overflow: ellipsis; \">&quot;chr1_10018_C_CT&quot;</td><td style=\"white-space: nowrap; max-width: 500px; overflow: hidden; text-overflow: ellipsis; \">12</td><td style=\"white-space: nowrap; max-width: 500px; overflow: hidden; text-overflow: ellipsis; \">NA</td><td style=\"white-space: nowrap; max-width: 500px; overflow: hidden; text-overflow: ellipsis; \">&quot;AF=0.00130719;AQ=12;NS=765;AN=1530;MAF=0.00130719;AC=2;AC_Het=0;AC_Hom=2;AC_Hemi=0;HWE=0.000654022;ExcHet=1&quot;</td><td style=\"white-space: nowrap; max-width: 500px; overflow: hidden; text-overflow: ellipsis; \">[]</td></tr>\n",
       "<tr><td style=\"white-space: nowrap; max-width: 500px; overflow: hidden; text-overflow: ellipsis; \">chr1:10048</td><td style=\"white-space: nowrap; max-width: 500px; overflow: hidden; text-overflow: ellipsis; \">[&quot;CT&quot;,&quot;C&quot;]</td><td style=\"white-space: nowrap; max-width: 500px; overflow: hidden; text-overflow: ellipsis; \">&quot;chr1_10048_CT_C&quot;</td><td style=\"white-space: nowrap; max-width: 500px; overflow: hidden; text-overflow: ellipsis; \">10</td><td style=\"white-space: nowrap; max-width: 500px; overflow: hidden; text-overflow: ellipsis; \">NA</td><td style=\"white-space: nowrap; max-width: 500px; overflow: hidden; text-overflow: ellipsis; \">&quot;AF=0.00622776;AQ=10;NS=562;AN=1124;MAF=0.00622776;AC=7;AC_Het=7;AC_Hom=0;AC_Hemi=0;HWE=1;ExcHet=0.981383&quot;</td><td style=\"white-space: nowrap; max-width: 500px; overflow: hidden; text-overflow: ellipsis; \">[]</td></tr>\n",
       "<tr><td style=\"white-space: nowrap; max-width: 500px; overflow: hidden; text-overflow: ellipsis; \">chr1:10054</td><td style=\"white-space: nowrap; max-width: 500px; overflow: hidden; text-overflow: ellipsis; \">[&quot;C&quot;,&quot;T&quot;]</td><td style=\"white-space: nowrap; max-width: 500px; overflow: hidden; text-overflow: ellipsis; \">&quot;chr1_10054_C_T&quot;</td><td style=\"white-space: nowrap; max-width: 500px; overflow: hidden; text-overflow: ellipsis; \">11</td><td style=\"white-space: nowrap; max-width: 500px; overflow: hidden; text-overflow: ellipsis; \">NA</td><td style=\"white-space: nowrap; max-width: 500px; overflow: hidden; text-overflow: ellipsis; \">&quot;AF=0.000740741;AQ=11;NS=675;AN=1350;MAF=0.000740741;AC=1;AC_Het=1;AC_Hom=0;AC_Hemi=0;HWE=1;ExcHet=1&quot;</td><td style=\"white-space: nowrap; max-width: 500px; overflow: hidden; text-overflow: ellipsis; \">[]</td></tr>\n",
       "<tr><td style=\"white-space: nowrap; max-width: 500px; overflow: hidden; text-overflow: ellipsis; \">chr1:10060</td><td style=\"white-space: nowrap; max-width: 500px; overflow: hidden; text-overflow: ellipsis; \">[&quot;C&quot;,&quot;CT&quot;]</td><td style=\"white-space: nowrap; max-width: 500px; overflow: hidden; text-overflow: ellipsis; \">&quot;chr1_10060_C_CT&quot;</td><td style=\"white-space: nowrap; max-width: 500px; overflow: hidden; text-overflow: ellipsis; \">11</td><td style=\"white-space: nowrap; max-width: 500px; overflow: hidden; text-overflow: ellipsis; \">NA</td><td style=\"white-space: nowrap; max-width: 500px; overflow: hidden; text-overflow: ellipsis; \">&quot;AF=0.000725689;AQ=11;NS=689;AN=1378;MAF=0.000725689;AC=1;AC_Het=1;AC_Hom=0;AC_Hemi=0;HWE=1;ExcHet=1&quot;</td><td style=\"white-space: nowrap; max-width: 500px; overflow: hidden; text-overflow: ellipsis; \">[]</td></tr>\n",
       "<tr><td style=\"white-space: nowrap; max-width: 500px; overflow: hidden; text-overflow: ellipsis; \">chr1:10072</td><td style=\"white-space: nowrap; max-width: 500px; overflow: hidden; text-overflow: ellipsis; \">[&quot;C&quot;,&quot;CT&quot;]</td><td style=\"white-space: nowrap; max-width: 500px; overflow: hidden; text-overflow: ellipsis; \">&quot;chr1_10072_C_CT&quot;</td><td style=\"white-space: nowrap; max-width: 500px; overflow: hidden; text-overflow: ellipsis; \">12</td><td style=\"white-space: nowrap; max-width: 500px; overflow: hidden; text-overflow: ellipsis; \">NA</td><td style=\"white-space: nowrap; max-width: 500px; overflow: hidden; text-overflow: ellipsis; \">&quot;AF=0.000662252;AQ=12;NS=755;AN=1510;MAF=0.000662252;AC=1;AC_Het=1;AC_Hom=0;AC_Hemi=0;HWE=1;ExcHet=1&quot;</td><td style=\"white-space: nowrap; max-width: 500px; overflow: hidden; text-overflow: ellipsis; \">[]</td></tr>\n",
       "<tr><td style=\"white-space: nowrap; max-width: 500px; overflow: hidden; text-overflow: ellipsis; \">chr1:10108</td><td style=\"white-space: nowrap; max-width: 500px; overflow: hidden; text-overflow: ellipsis; \">[&quot;C&quot;,&quot;CT&quot;]</td><td style=\"white-space: nowrap; max-width: 500px; overflow: hidden; text-overflow: ellipsis; \">&quot;chr1_10108_C_CT&quot;</td><td style=\"white-space: nowrap; max-width: 500px; overflow: hidden; text-overflow: ellipsis; \">18</td><td style=\"white-space: nowrap; max-width: 500px; overflow: hidden; text-overflow: ellipsis; \">NA</td><td style=\"white-space: nowrap; max-width: 500px; overflow: hidden; text-overflow: ellipsis; \">&quot;AF=0.0808511;AQ=18;NS=355;AN=705;MAF=0.0808511;AC=57;AC_Het=48;AC_Hom=4;AC_Hemi=5;HWE=1;ExcHet=0.707804&quot;</td><td style=\"white-space: nowrap; max-width: 500px; overflow: hidden; text-overflow: ellipsis; \">[]</td></tr>\n",
       "<tr><td style=\"white-space: nowrap; max-width: 500px; overflow: hidden; text-overflow: ellipsis; \">chr1:10138</td><td style=\"white-space: nowrap; max-width: 500px; overflow: hidden; text-overflow: ellipsis; \">[&quot;T&quot;,&quot;G&quot;]</td><td style=\"white-space: nowrap; max-width: 500px; overflow: hidden; text-overflow: ellipsis; \">&quot;chr1_10138_T_G&quot;</td><td style=\"white-space: nowrap; max-width: 500px; overflow: hidden; text-overflow: ellipsis; \">11</td><td style=\"white-space: nowrap; max-width: 500px; overflow: hidden; text-overflow: ellipsis; \">NA</td><td style=\"white-space: nowrap; max-width: 500px; overflow: hidden; text-overflow: ellipsis; \">&quot;AF=0.00134953;AQ=11;NS=741;AN=1482;MAF=0.00134953;AC=2;AC_Het=2;AC_Hom=0;AC_Hemi=0;HWE=1;ExcHet=0.999325&quot;</td><td style=\"white-space: nowrap; max-width: 500px; overflow: hidden; text-overflow: ellipsis; \">[]</td></tr>\n",
       "<tr><td style=\"white-space: nowrap; max-width: 500px; overflow: hidden; text-overflow: ellipsis; \">chr1:10144</td><td style=\"white-space: nowrap; max-width: 500px; overflow: hidden; text-overflow: ellipsis; \">[&quot;T&quot;,&quot;G&quot;]</td><td style=\"white-space: nowrap; max-width: 500px; overflow: hidden; text-overflow: ellipsis; \">&quot;chr1_10144_T_G&quot;</td><td style=\"white-space: nowrap; max-width: 500px; overflow: hidden; text-overflow: ellipsis; \">12</td><td style=\"white-space: nowrap; max-width: 500px; overflow: hidden; text-overflow: ellipsis; \">NA</td><td style=\"white-space: nowrap; max-width: 500px; overflow: hidden; text-overflow: ellipsis; \">&quot;AF=0.00549451;AQ=12;NS=637;AN=1274;MAF=0.00549451;AC=7;AC_Het=3;AC_Hom=4;AC_Hemi=0;HWE=6.47933e-05;ExcHet=1&quot;</td><td style=\"white-space: nowrap; max-width: 500px; overflow: hidden; text-overflow: ellipsis; \">[]</td></tr>\n",
       "<tr><td style=\"white-space: nowrap; max-width: 500px; overflow: hidden; text-overflow: ellipsis; \">chr1:10146</td><td style=\"white-space: nowrap; max-width: 500px; overflow: hidden; text-overflow: ellipsis; \">[&quot;AC&quot;,&quot;A&quot;]</td><td style=\"white-space: nowrap; max-width: 500px; overflow: hidden; text-overflow: ellipsis; \">&quot;chr1_10146_AC_A&quot;</td><td style=\"white-space: nowrap; max-width: 500px; overflow: hidden; text-overflow: ellipsis; \">16</td><td style=\"white-space: nowrap; max-width: 500px; overflow: hidden; text-overflow: ellipsis; \">NA</td><td style=\"white-space: nowrap; max-width: 500px; overflow: hidden; text-overflow: ellipsis; \">&quot;AF=0.226471;AQ=16;NS=343;AN=680;MAF=0.226471;AC=154;AC_Het=40;AC_Hom=108;AC_Hemi=6;HWE=3.06442e-29;ExcHet=1&quot;</td><td style=\"white-space: nowrap; max-width: 500px; overflow: hidden; text-overflow: ellipsis; \">[]</td></tr>\n",
       "<tr><td style=\"white-space: nowrap; max-width: 500px; overflow: hidden; text-overflow: ellipsis; \">chr1:10150</td><td style=\"white-space: nowrap; max-width: 500px; overflow: hidden; text-overflow: ellipsis; \">[&quot;C&quot;,&quot;T&quot;]</td><td style=\"white-space: nowrap; max-width: 500px; overflow: hidden; text-overflow: ellipsis; \">&quot;chr1_10150_C_T&quot;</td><td style=\"white-space: nowrap; max-width: 500px; overflow: hidden; text-overflow: ellipsis; \">11</td><td style=\"white-space: nowrap; max-width: 500px; overflow: hidden; text-overflow: ellipsis; \">NA</td><td style=\"white-space: nowrap; max-width: 500px; overflow: hidden; text-overflow: ellipsis; \">&quot;AF=0.00948276;AQ=11;NS=580;AN=1160;MAF=0.00948276;AC=11;AC_Het=11;AC_Hom=0;AC_Hemi=0;HWE=1;ExcHet=0.953279&quot;</td><td style=\"white-space: nowrap; max-width: 500px; overflow: hidden; text-overflow: ellipsis; \">[]</td></tr>\n",
       "</tbody></table><p style=\"background: #fdd; padding: 0.4em;\">showing top 10 rows</p>\n"
      ],
      "text/plain": [
       "+---------------+------------+-------------------+-------+---------+\n",
       "| locus         | alleles    | rsid              |  qual | filters |\n",
       "+---------------+------------+-------------------+-------+---------+\n",
       "| locus<GRCh38> | array<str> | str               | int32 | str     |\n",
       "+---------------+------------+-------------------+-------+---------+\n",
       "| chr1:10018    | [\"C\",\"CT\"] | \"chr1_10018_C_CT\" |    12 | NA      |\n",
       "| chr1:10048    | [\"CT\",\"C\"] | \"chr1_10048_CT_C\" |    10 | NA      |\n",
       "| chr1:10054    | [\"C\",\"T\"]  | \"chr1_10054_C_T\"  |    11 | NA      |\n",
       "| chr1:10060    | [\"C\",\"CT\"] | \"chr1_10060_C_CT\" |    11 | NA      |\n",
       "| chr1:10072    | [\"C\",\"CT\"] | \"chr1_10072_C_CT\" |    12 | NA      |\n",
       "| chr1:10108    | [\"C\",\"CT\"] | \"chr1_10108_C_CT\" |    18 | NA      |\n",
       "| chr1:10138    | [\"T\",\"G\"]  | \"chr1_10138_T_G\"  |    11 | NA      |\n",
       "| chr1:10144    | [\"T\",\"G\"]  | \"chr1_10144_T_G\"  |    12 | NA      |\n",
       "| chr1:10146    | [\"AC\",\"A\"] | \"chr1_10146_AC_A\" |    16 | NA      |\n",
       "| chr1:10150    | [\"C\",\"T\"]  | \"chr1_10150_C_T\"  |    11 | NA      |\n",
       "+---------------+------------+-------------------+-------+---------+\n",
       "\n",
       "+------------------------------------------------------------------------------+\n",
       "| info.info                                                                    |\n",
       "+------------------------------------------------------------------------------+\n",
       "| str                                                                          |\n",
       "+------------------------------------------------------------------------------+\n",
       "| \"AF=0.00130719;AQ=12;NS=765;AN=1530;MAF=0.00130719;AC=2;AC_Het=0;AC_Hom=2... |\n",
       "| \"AF=0.00622776;AQ=10;NS=562;AN=1124;MAF=0.00622776;AC=7;AC_Het=7;AC_Hom=0... |\n",
       "| \"AF=0.000740741;AQ=11;NS=675;AN=1350;MAF=0.000740741;AC=1;AC_Het=1;AC_Hom... |\n",
       "| \"AF=0.000725689;AQ=11;NS=689;AN=1378;MAF=0.000725689;AC=1;AC_Het=1;AC_Hom... |\n",
       "| \"AF=0.000662252;AQ=12;NS=755;AN=1510;MAF=0.000662252;AC=1;AC_Het=1;AC_Hom... |\n",
       "| \"AF=0.0808511;AQ=18;NS=355;AN=705;MAF=0.0808511;AC=57;AC_Het=48;AC_Hom=4;... |\n",
       "| \"AF=0.00134953;AQ=11;NS=741;AN=1482;MAF=0.00134953;AC=2;AC_Het=2;AC_Hom=0... |\n",
       "| \"AF=0.00549451;AQ=12;NS=637;AN=1274;MAF=0.00549451;AC=7;AC_Het=3;AC_Hom=4... |\n",
       "| \"AF=0.226471;AQ=16;NS=343;AN=680;MAF=0.226471;AC=154;AC_Het=40;AC_Hom=108... |\n",
       "| \"AF=0.00948276;AQ=11;NS=580;AN=1160;MAF=0.00948276;AC=11;AC_Het=11;AC_Hom... |\n",
       "+------------------------------------------------------------------------------+\n",
       "\n",
       "+-----------------+\n",
       "| entries         |\n",
       "+-----------------+\n",
       "| array<struct{}> |\n",
       "+-----------------+\n",
       "| []              |\n",
       "| []              |\n",
       "| []              |\n",
       "| []              |\n",
       "| []              |\n",
       "| []              |\n",
       "| []              |\n",
       "| []              |\n",
       "| []              |\n",
       "| []              |\n",
       "+-----------------+\n",
       "showing top 10 rows"
      ]
     },
     "metadata": {},
     "output_type": "display_data"
    }
   ],
   "source": [
    "t = consumer.create_hail_table(rows=rows_hail, reference_genome=\"GRCh38\")\n",
    "t.show()"
   ]
  },
  {
   "cell_type": "markdown",
   "id": "18ffb6e8",
   "metadata": {},
   "source": [
    "# Create MatrixTable from Table"
   ]
  },
  {
   "cell_type": "code",
   "execution_count": 21,
   "id": "104a11bc",
   "metadata": {},
   "outputs": [
    {
     "data": {
      "text/html": [
       "<table><thead><tr><td style=\"white-space: nowrap; max-width: 500px; overflow: hidden; text-overflow: ellipsis; \" colspan=\"1\"><div style=\"text-align: left;\"></div></td><td style=\"white-space: nowrap; max-width: 500px; overflow: hidden; text-overflow: ellipsis; \" colspan=\"1\"><div style=\"text-align: left;\"></div></td></tr><tr><td style=\"white-space: nowrap; max-width: 500px; overflow: hidden; text-overflow: ellipsis; \" colspan=\"1\"><div style=\"text-align: left;border-bottom: solid 2px #000; padding-bottom: 5px\">locus</div></td><td style=\"white-space: nowrap; max-width: 500px; overflow: hidden; text-overflow: ellipsis; \" colspan=\"1\"><div style=\"text-align: left;border-bottom: solid 2px #000; padding-bottom: 5px\">alleles</div></td></tr><tr><td style=\"white-space: nowrap; max-width: 500px; overflow: hidden; text-overflow: ellipsis; text-align: left;\">locus&lt;GRCh38&gt;</td><td style=\"white-space: nowrap; max-width: 500px; overflow: hidden; text-overflow: ellipsis; text-align: left;\">array&lt;str&gt;</td></tr>\n",
       "</thead><tbody><tr><td style=\"white-space: nowrap; max-width: 500px; overflow: hidden; text-overflow: ellipsis; \">chr1:1161907</td><td style=\"white-space: nowrap; max-width: 500px; overflow: hidden; text-overflow: ellipsis; \">[&quot;T&quot;,&quot;C&quot;]</td></tr>\n",
       "<tr><td style=\"white-space: nowrap; max-width: 500px; overflow: hidden; text-overflow: ellipsis; \">chr1:1361836</td><td style=\"white-space: nowrap; max-width: 500px; overflow: hidden; text-overflow: ellipsis; \">[&quot;A&quot;,&quot;G&quot;]</td></tr>\n",
       "<tr><td style=\"white-space: nowrap; max-width: 500px; overflow: hidden; text-overflow: ellipsis; \">chr1:1716247</td><td style=\"white-space: nowrap; max-width: 500px; overflow: hidden; text-overflow: ellipsis; \">[&quot;A&quot;,&quot;C&quot;]</td></tr>\n",
       "<tr><td style=\"white-space: nowrap; max-width: 500px; overflow: hidden; text-overflow: ellipsis; \">chr1:1734301</td><td style=\"white-space: nowrap; max-width: 500px; overflow: hidden; text-overflow: ellipsis; \">[&quot;T&quot;,&quot;C&quot;]</td></tr>\n",
       "<tr><td style=\"white-space: nowrap; max-width: 500px; overflow: hidden; text-overflow: ellipsis; \">chr1:2109497</td><td style=\"white-space: nowrap; max-width: 500px; overflow: hidden; text-overflow: ellipsis; \">[&quot;T&quot;,&quot;C&quot;]</td></tr>\n",
       "<tr><td style=\"white-space: nowrap; max-width: 500px; overflow: hidden; text-overflow: ellipsis; \">chr1:4323996</td><td style=\"white-space: nowrap; max-width: 500px; overflow: hidden; text-overflow: ellipsis; \">[&quot;C&quot;,&quot;T&quot;]</td></tr>\n",
       "<tr><td style=\"white-space: nowrap; max-width: 500px; overflow: hidden; text-overflow: ellipsis; \">chr1:4437070</td><td style=\"white-space: nowrap; max-width: 500px; overflow: hidden; text-overflow: ellipsis; \">[&quot;G&quot;,&quot;A&quot;]</td></tr>\n",
       "<tr><td style=\"white-space: nowrap; max-width: 500px; overflow: hidden; text-overflow: ellipsis; \">chr1:4537795</td><td style=\"white-space: nowrap; max-width: 500px; overflow: hidden; text-overflow: ellipsis; \">[&quot;T&quot;,&quot;C&quot;]</td></tr>\n",
       "<tr><td style=\"white-space: nowrap; max-width: 500px; overflow: hidden; text-overflow: ellipsis; \">chr1:4597062</td><td style=\"white-space: nowrap; max-width: 500px; overflow: hidden; text-overflow: ellipsis; \">[&quot;G&quot;,&quot;A&quot;]</td></tr>\n",
       "<tr><td style=\"white-space: nowrap; max-width: 500px; overflow: hidden; text-overflow: ellipsis; \">chr1:4934881</td><td style=\"white-space: nowrap; max-width: 500px; overflow: hidden; text-overflow: ellipsis; \">[&quot;G&quot;,&quot;A&quot;]</td></tr>\n",
       "</tbody></table><p style=\"background: #fdd; padding: 0.4em;\">showing top 10 rows</p>\n",
       "<p style=\"background: #fdd; padding: 0.4em;\">showing the first 0 of 836 columns</p>\n"
      ],
      "text/plain": [
       "+---------------+------------+\n",
       "| locus         | alleles    |\n",
       "+---------------+------------+\n",
       "| locus<GRCh38> | array<str> |\n",
       "+---------------+------------+\n",
       "| chr1:1161907  | [\"T\",\"C\"]  |\n",
       "| chr1:1361836  | [\"A\",\"G\"]  |\n",
       "| chr1:1716247  | [\"A\",\"C\"]  |\n",
       "| chr1:1734301  | [\"T\",\"C\"]  |\n",
       "| chr1:2109497  | [\"T\",\"C\"]  |\n",
       "| chr1:4323996  | [\"C\",\"T\"]  |\n",
       "| chr1:4437070  | [\"G\",\"A\"]  |\n",
       "| chr1:4537795  | [\"T\",\"C\"]  |\n",
       "| chr1:4597062  | [\"G\",\"A\"]  |\n",
       "| chr1:4934881  | [\"G\",\"A\"]  |\n",
       "+---------------+------------+\n",
       "showing top 10 rows\n",
       "showing the first 0 of 836 columns"
      ]
     },
     "metadata": {},
     "output_type": "display_data"
    }
   ],
   "source": [
    "mt_from_table = consumer.combine_hail_matrix_table_and_table(mt=mt, table=t)\n",
    "mt_from_table.show()"
   ]
  },
  {
   "cell_type": "code",
   "execution_count": 22,
   "id": "829ef626",
   "metadata": {},
   "outputs": [
    {
     "data": {
      "text/plain": [
       "(16028, 836)"
      ]
     },
     "execution_count": 22,
     "metadata": {},
     "output_type": "execute_result"
    }
   ],
   "source": [
    "mt_from_table.count()"
   ]
  }
 ],
 "metadata": {
  "kernelspec": {
   "display_name": "hail",
   "language": "python",
   "name": "python3"
  },
  "language_info": {
   "codemirror_mode": {
    "name": "ipython",
    "version": 3
   },
   "file_extension": ".py",
   "mimetype": "text/x-python",
   "name": "python",
   "nbconvert_exporter": "python",
   "pygments_lexer": "ipython3",
   "version": "3.12.10"
  }
 },
 "nbformat": 4,
 "nbformat_minor": 5
}
