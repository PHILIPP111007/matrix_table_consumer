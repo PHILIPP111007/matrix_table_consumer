{
 "cells": [
  {
   "cell_type": "markdown",
   "id": "80b1d43e",
   "metadata": {},
   "source": [
    "#####################################################\n",
    "\n",
    "#### To compile Go modules with C types to work with Python run:\n",
    "#### go build -o main.so -buildmode=c-shared functions/main.go\n",
    "\n",
    "#####################################################"
   ]
  },
  {
   "cell_type": "code",
   "execution_count": null,
   "id": "26c824ba",
   "metadata": {},
   "outputs": [],
   "source": [
    "import os\n",
    "import sys\n",
    "\n",
    "import hail as hl\n",
    "import pyspark\n",
    "\n",
    "\n",
    "hail_jars = os.path.join(\n",
    "    os.sep.join(sys.executable.split(os.sep)[:6]),\n",
    "    \"lib\",\n",
    "    f\"python{sys.version_info.major}.{sys.version_info.minor}\",\n",
    "    \"site-packages\",\n",
    "    \"hail\",\n",
    "    \"backend\",\n",
    "    \"hail-all-spark.jar\",\n",
    ")\n",
    "\n",
    "CONF = pyspark.SparkConf().setAll(\n",
    "    [\n",
    "        (\"spark.master\", f\"local[{20}]\"),\n",
    "        (\"spark.app.name\", \"Hail_demonstration\"),\n",
    "        (\"spark.jars\", hail_jars),\n",
    "        (\"spark.driver.extraClassPath\", hail_jars),\n",
    "        (\"spark.driver.memory\", \"30g\"),\n",
    "        (\"spark.executor.extraClassPath\", \"./hail-all-spark.jar\"),\n",
    "        (\"spark.serializer\", \"org.apache.spark.serializer.KryoSerializer\"),\n",
    "        (\"spark.kryo.registrator\", \"is.hail.kryo.HailKryoRegistrator\"),\n",
    "    ]\n",
    ")\n",
    "\n",
    "sc = pyspark.SparkContext(conf=CONF)\n",
    "\n",
    "hl.init(default_reference=\"GRCh38\", sc=sc)"
   ]
  },
  {
   "cell_type": "code",
   "execution_count": 11,
   "id": "7b05946c",
   "metadata": {},
   "outputs": [],
   "source": [
    "from matrix_table_consumer import MatrixTableConsumer, NUM_CPU"
   ]
  },
  {
   "cell_type": "code",
   "execution_count": 2,
   "id": "8e5ced2a",
   "metadata": {},
   "outputs": [],
   "source": [
    "# Downloaded from https://ftp.1000genomes.ebi.ac.uk/vol1/ftp/release/20130502/\n",
    "\n",
    "vcf_big_path = \"/home/phil/GitHub/matrix_table_consumer/data/ALL.chr1.phase3_shapeit2_mvncall_integrated_v5b.20130502.genotypes.vcf.gz\"  # GRCh38\n",
    "\n",
    "matrix_table_path = \"/home/froschin/work/hail/data/matrix_table.mt\"\n",
    "json_path = \"/home/froschin/work/hail/data/matrix.json\""
   ]
  },
  {
   "cell_type": "code",
   "execution_count": null,
   "id": "8b98c039",
   "metadata": {},
   "outputs": [],
   "source": [
    "mt = hl.import_vcf(\n",
    "    vcf_big_path,\n",
    "    reference_genome=\"GRCh37\",\n",
    "    array_elements_required=False,\n",
    "    force=True,\n",
    ")\n",
    "mt.show()"
   ]
  },
  {
   "cell_type": "code",
   "execution_count": 3,
   "id": "dd190d49",
   "metadata": {},
   "outputs": [],
   "source": [
    "consumer = MatrixTableConsumer(\n",
    "    vcf_path=vcf_big_path, is_gzip=True, reference_genome=\"GRCh37\"\n",
    ")"
   ]
  },
  {
   "cell_type": "markdown",
   "id": "057828a1",
   "metadata": {},
   "source": [
    "# Save MatrixTable"
   ]
  },
  {
   "cell_type": "code",
   "execution_count": null,
   "id": "55633ab4",
   "metadata": {},
   "outputs": [],
   "source": [
    "content = {}\n",
    "content = consumer.prepare_metadata_for_saving(json_path=json_path, mt=mt)"
   ]
  },
  {
   "cell_type": "markdown",
   "id": "5f4414dc",
   "metadata": {},
   "source": [
    "# Download MatrixTable"
   ]
  },
  {
   "cell_type": "code",
   "execution_count": null,
   "id": "9aa937af",
   "metadata": {},
   "outputs": [],
   "source": [
    "mt_new = consumer.prepare_metadata_for_loading(json_path=json_path)\n",
    "\n",
    "mt_new.write(matrix_table_path, overwrite=True)\n",
    "mt_new.count()"
   ]
  },
  {
   "cell_type": "markdown",
   "id": "185be466",
   "metadata": {},
   "source": [
    "# Collect rows"
   ]
  },
  {
   "cell_type": "code",
   "execution_count": 8,
   "id": "7621c781",
   "metadata": {},
   "outputs": [
    {
     "name": "stdout",
     "output_type": "stream",
     "text": [
      "[22-08-2025 17:17:15] - INFO - Collecting data\n",
      "[22-08-2025 17:17:15] - INFO - End\n"
     ]
    },
    {
     "data": {
      "text/plain": [
       "[{'QUAL': 100,\n",
       "  'POS': 1638832,\n",
       "  'CHROM': '1',\n",
       "  'ID': '.',\n",
       "  'REF': 'G',\n",
       "  'ALT': 'A',\n",
       "  'FILTER': 'PASS',\n",
       "  'INFO': 'AC=1;AF=0.000199681;AN=5008;NS=2504;DP=21089;EAS_AF=0.001;AMR_AF=0;AFR_AF=0;EUR_AF=0;SAS_AF=0;AA=-|||;VT=SNP;EX_TARGET'},\n",
       " {'QUAL': 100,\n",
       "  'POS': 1638954,\n",
       "  'CHROM': '1',\n",
       "  'ID': '.',\n",
       "  'REF': 'G',\n",
       "  'ALT': 'A',\n",
       "  'FILTER': 'PASS',\n",
       "  'INFO': 'AC=2;AF=0.000399361;AN=5008;NS=2504;DP=17536;EAS_AF=0;AMR_AF=0;AFR_AF=0;EUR_AF=0;SAS_AF=0.002;AA=-|||;VT=SNP;EX_TARGET'}]"
      ]
     },
     "execution_count": 8,
     "metadata": {},
     "output_type": "execute_result"
    }
   ],
   "source": [
    "rows = consumer.collect(num_rows=10_000, num_cpu=NUM_CPU)\n",
    "rows[:2]"
   ]
  },
  {
   "cell_type": "code",
   "execution_count": null,
   "id": "03a64d32",
   "metadata": {},
   "outputs": [],
   "source": [
    "rows_count = consumer.count()\n",
    "rows_count"
   ]
  },
  {
   "cell_type": "code",
   "execution_count": null,
   "id": "aa418605",
   "metadata": {},
   "outputs": [],
   "source": [
    "rows = consumer.collect_all(num_cpu=NUM_CPU)\n",
    "rows[:2]"
   ]
  },
  {
   "cell_type": "code",
   "execution_count": 5,
   "id": "db6e1b87",
   "metadata": {},
   "outputs": [
    {
     "name": "stdout",
     "output_type": "stream",
     "text": [
      "10000\n"
     ]
    }
   ],
   "source": [
    "print(len(rows))"
   ]
  },
  {
   "cell_type": "code",
   "execution_count": 6,
   "id": "d4138586",
   "metadata": {},
   "outputs": [
    {
     "name": "stderr",
     "output_type": "stream",
     "text": [
      "Converting rows to hail:   0%|          | 0/10001 [00:00<?, ?it/s]Initializing Hail with default parameters...\n"
     ]
    },
    {
     "name": "stderr",
     "output_type": "stream",
     "text": [
      "Running on Apache Spark version 3.5.6\n",
      "SparkUI available at http://10.1.1.138:4040\n",
      "Welcome to\n",
      "     __  __     <>__\n",
      "    / /_/ /__  __/ /\n",
      "   / __  / _ `/ / /\n",
      "  /_/ /_/\\_,_/_/_/   version 0.2.135-034ef3e08116\n",
      "LOGGING: writing to /home/phil/GitHub/matrix_table_consumer/hail-20250822-1257-0.2.135-034ef3e08116.log\n",
      "Converting rows to hail: 100%|██████████| 10001/10001 [00:10<00:00, 997.99it/s]\n"
     ]
    },
    {
     "data": {
      "text/plain": [
       "[Struct(locus=Locus(contig=1, position=10235, reference_genome=GRCh37), alleles=['T', 'TA'], rsid='.', qual=100, filters='PASS', info=Struct(info='AC=6;AF=0.00119808;AN=5008;NS=2504;DP=78015;EAS_AF=0;AMR_AF=0.0014;AFR_AF=0;EUR_AF=0;SAS_AF=0.0051;AA=|||unknown(NO_COVERAGE);VT=INDEL'), entries=[]),\n",
       " Struct(locus=Locus(contig=1, position=10505, reference_genome=GRCh37), alleles=['A', 'T'], rsid='.', qual=100, filters='PASS', info=Struct(info='AC=1;AF=0.000199681;AN=5008;NS=2504;DP=9632;EAS_AF=0;AMR_AF=0;AFR_AF=0.0008;EUR_AF=0;SAS_AF=0;AA=.|||;VT=SNP'), entries=[]),\n",
       " Struct(locus=Locus(contig=1, position=10352, reference_genome=GRCh37), alleles=['T', 'TA'], rsid='.', qual=100, filters='PASS', info=Struct(info='AC=2191;AF=0.4375;AN=5008;NS=2504;DP=88915;EAS_AF=0.4306;AMR_AF=0.4107;AFR_AF=0.4788;EUR_AF=0.4264;SAS_AF=0.4192;AA=|||unknown(NO_COVERAGE);VT=INDEL'), entries=[]),\n",
       " Struct(locus=Locus(contig=1, position=10539, reference_genome=GRCh37), alleles=['C', 'A'], rsid='.', qual=100, filters='PASS', info=Struct(info='AC=3;AF=0.000599042;AN=5008;NS=2504;DP=9203;EAS_AF=0;AMR_AF=0.0014;AFR_AF=0;EUR_AF=0.001;SAS_AF=0.001;AA=.|||;VT=SNP'), entries=[]),\n",
       " Struct(locus=Locus(contig=1, position=10511, reference_genome=GRCh37), alleles=['G', 'A'], rsid='.', qual=100, filters='PASS', info=Struct(info='AC=1;AF=0.000199681;AN=5008;NS=2504;DP=9869;EAS_AF=0;AMR_AF=0.0014;AFR_AF=0;EUR_AF=0;SAS_AF=0;AA=.|||;VT=SNP'), entries=[])]"
      ]
     },
     "execution_count": 6,
     "metadata": {},
     "output_type": "execute_result"
    }
   ],
   "source": [
    "rows_hail = consumer.convert_rows_to_hail(rows=rows)\n",
    "rows_hail[:5]"
   ]
  },
  {
   "cell_type": "code",
   "execution_count": 7,
   "id": "479be5e6",
   "metadata": {},
   "outputs": [
    {
     "data": {
      "text/html": [
       "<table><thead><tr><td style=\"white-space: nowrap; max-width: 500px; overflow: hidden; text-overflow: ellipsis; \" colspan=\"1\"><div style=\"text-align: left;\"></div></td><td style=\"white-space: nowrap; max-width: 500px; overflow: hidden; text-overflow: ellipsis; \" colspan=\"1\"><div style=\"text-align: left;\"></div></td><td style=\"white-space: nowrap; max-width: 500px; overflow: hidden; text-overflow: ellipsis; \" colspan=\"1\"><div style=\"text-align: left;\"></div></td><td style=\"white-space: nowrap; max-width: 500px; overflow: hidden; text-overflow: ellipsis; \" colspan=\"1\"><div style=\"text-align: left;\"></div></td><td style=\"white-space: nowrap; max-width: 500px; overflow: hidden; text-overflow: ellipsis; \" colspan=\"1\"><div style=\"text-align: left;\"></div></td><td style=\"white-space: nowrap; max-width: 500px; overflow: hidden; text-overflow: ellipsis; \" colspan=\"1\"><div style=\"text-align: left;\"></div></td><td style=\"white-space: nowrap; max-width: 500px; overflow: hidden; text-overflow: ellipsis; \" colspan=\"1\"><div style=\"text-align: left;\"></div></td></tr><tr><td style=\"white-space: nowrap; max-width: 500px; overflow: hidden; text-overflow: ellipsis; \" colspan=\"1\"><div style=\"text-align: left;\"></div></td><td style=\"white-space: nowrap; max-width: 500px; overflow: hidden; text-overflow: ellipsis; \" colspan=\"1\"><div style=\"text-align: left;\"></div></td><td style=\"white-space: nowrap; max-width: 500px; overflow: hidden; text-overflow: ellipsis; \" colspan=\"1\"><div style=\"text-align: left;\"></div></td><td style=\"white-space: nowrap; max-width: 500px; overflow: hidden; text-overflow: ellipsis; \" colspan=\"1\"><div style=\"text-align: left;\"></div></td><td style=\"white-space: nowrap; max-width: 500px; overflow: hidden; text-overflow: ellipsis; \" colspan=\"1\"><div style=\"text-align: left;\"></div></td><td style=\"white-space: nowrap; max-width: 500px; overflow: hidden; text-overflow: ellipsis; \" colspan=\"1\"><div style=\"text-align: left;border-bottom: solid 2px #000; padding-bottom: 5px\">info</div></td><td style=\"white-space: nowrap; max-width: 500px; overflow: hidden; text-overflow: ellipsis; \" colspan=\"1\"><div style=\"text-align: left;\"></div></td></tr><tr><td style=\"white-space: nowrap; max-width: 500px; overflow: hidden; text-overflow: ellipsis; \" colspan=\"1\"><div style=\"text-align: left;border-bottom: solid 2px #000; padding-bottom: 5px\">locus</div></td><td style=\"white-space: nowrap; max-width: 500px; overflow: hidden; text-overflow: ellipsis; \" colspan=\"1\"><div style=\"text-align: left;border-bottom: solid 2px #000; padding-bottom: 5px\">alleles</div></td><td style=\"white-space: nowrap; max-width: 500px; overflow: hidden; text-overflow: ellipsis; \" colspan=\"1\"><div style=\"text-align: left;border-bottom: solid 2px #000; padding-bottom: 5px\">rsid</div></td><td style=\"white-space: nowrap; max-width: 500px; overflow: hidden; text-overflow: ellipsis; \" colspan=\"1\"><div style=\"text-align: left;border-bottom: solid 2px #000; padding-bottom: 5px\">qual</div></td><td style=\"white-space: nowrap; max-width: 500px; overflow: hidden; text-overflow: ellipsis; \" colspan=\"1\"><div style=\"text-align: left;border-bottom: solid 2px #000; padding-bottom: 5px\">filters</div></td><td style=\"white-space: nowrap; max-width: 500px; overflow: hidden; text-overflow: ellipsis; \" colspan=\"1\"><div style=\"text-align: left;border-bottom: solid 2px #000; padding-bottom: 5px\">info</div></td><td style=\"white-space: nowrap; max-width: 500px; overflow: hidden; text-overflow: ellipsis; \" colspan=\"1\"><div style=\"text-align: left;border-bottom: solid 2px #000; padding-bottom: 5px\">entries</div></td></tr><tr><td style=\"white-space: nowrap; max-width: 500px; overflow: hidden; text-overflow: ellipsis; text-align: left;\">locus&lt;GRCh37&gt;</td><td style=\"white-space: nowrap; max-width: 500px; overflow: hidden; text-overflow: ellipsis; text-align: left;\">array&lt;str&gt;</td><td style=\"white-space: nowrap; max-width: 500px; overflow: hidden; text-overflow: ellipsis; text-align: left;\">str</td><td style=\"white-space: nowrap; max-width: 500px; overflow: hidden; text-overflow: ellipsis; text-align: left;\">int32</td><td style=\"white-space: nowrap; max-width: 500px; overflow: hidden; text-overflow: ellipsis; text-align: left;\">str</td><td style=\"white-space: nowrap; max-width: 500px; overflow: hidden; text-overflow: ellipsis; text-align: left;\">str</td><td style=\"white-space: nowrap; max-width: 500px; overflow: hidden; text-overflow: ellipsis; text-align: left;\">array&lt;struct{}&gt;</td></tr>\n",
       "</thead><tbody><tr><td style=\"white-space: nowrap; max-width: 500px; overflow: hidden; text-overflow: ellipsis; \">1:10235</td><td style=\"white-space: nowrap; max-width: 500px; overflow: hidden; text-overflow: ellipsis; \">[&quot;T&quot;,&quot;TA&quot;]</td><td style=\"white-space: nowrap; max-width: 500px; overflow: hidden; text-overflow: ellipsis; \">&quot;.&quot;</td><td style=\"white-space: nowrap; max-width: 500px; overflow: hidden; text-overflow: ellipsis; \">100</td><td style=\"white-space: nowrap; max-width: 500px; overflow: hidden; text-overflow: ellipsis; \">&quot;PASS&quot;</td><td style=\"white-space: nowrap; max-width: 500px; overflow: hidden; text-overflow: ellipsis; \">&quot;AC=6;AF=0.00119808;AN=5008;NS=2504;DP=78015;EAS_AF=0;AMR_AF=0.0014;AFR_AF=0;EUR_AF=0;SAS_AF=0.0051;AA=|||unknown(NO_COVERAGE);VT=INDEL&quot;</td><td style=\"white-space: nowrap; max-width: 500px; overflow: hidden; text-overflow: ellipsis; \">[]</td></tr>\n",
       "<tr><td style=\"white-space: nowrap; max-width: 500px; overflow: hidden; text-overflow: ellipsis; \">1:10352</td><td style=\"white-space: nowrap; max-width: 500px; overflow: hidden; text-overflow: ellipsis; \">[&quot;T&quot;,&quot;TA&quot;]</td><td style=\"white-space: nowrap; max-width: 500px; overflow: hidden; text-overflow: ellipsis; \">&quot;.&quot;</td><td style=\"white-space: nowrap; max-width: 500px; overflow: hidden; text-overflow: ellipsis; \">100</td><td style=\"white-space: nowrap; max-width: 500px; overflow: hidden; text-overflow: ellipsis; \">&quot;PASS&quot;</td><td style=\"white-space: nowrap; max-width: 500px; overflow: hidden; text-overflow: ellipsis; \">&quot;AC=2191;AF=0.4375;AN=5008;NS=2504;DP=88915;EAS_AF=0.4306;AMR_AF=0.4107;AFR_AF=0.4788;EUR_AF=0.4264;SAS_AF=0.4192;AA=|||unknown(NO_COVERAGE);VT=INDEL&quot;</td><td style=\"white-space: nowrap; max-width: 500px; overflow: hidden; text-overflow: ellipsis; \">[]</td></tr>\n",
       "<tr><td style=\"white-space: nowrap; max-width: 500px; overflow: hidden; text-overflow: ellipsis; \">1:10505</td><td style=\"white-space: nowrap; max-width: 500px; overflow: hidden; text-overflow: ellipsis; \">[&quot;A&quot;,&quot;T&quot;]</td><td style=\"white-space: nowrap; max-width: 500px; overflow: hidden; text-overflow: ellipsis; \">&quot;.&quot;</td><td style=\"white-space: nowrap; max-width: 500px; overflow: hidden; text-overflow: ellipsis; \">100</td><td style=\"white-space: nowrap; max-width: 500px; overflow: hidden; text-overflow: ellipsis; \">&quot;PASS&quot;</td><td style=\"white-space: nowrap; max-width: 500px; overflow: hidden; text-overflow: ellipsis; \">&quot;AC=1;AF=0.000199681;AN=5008;NS=2504;DP=9632;EAS_AF=0;AMR_AF=0;AFR_AF=0.0008;EUR_AF=0;SAS_AF=0;AA=.|||;VT=SNP&quot;</td><td style=\"white-space: nowrap; max-width: 500px; overflow: hidden; text-overflow: ellipsis; \">[]</td></tr>\n",
       "<tr><td style=\"white-space: nowrap; max-width: 500px; overflow: hidden; text-overflow: ellipsis; \">1:10506</td><td style=\"white-space: nowrap; max-width: 500px; overflow: hidden; text-overflow: ellipsis; \">[&quot;C&quot;,&quot;G&quot;]</td><td style=\"white-space: nowrap; max-width: 500px; overflow: hidden; text-overflow: ellipsis; \">&quot;.&quot;</td><td style=\"white-space: nowrap; max-width: 500px; overflow: hidden; text-overflow: ellipsis; \">100</td><td style=\"white-space: nowrap; max-width: 500px; overflow: hidden; text-overflow: ellipsis; \">&quot;PASS&quot;</td><td style=\"white-space: nowrap; max-width: 500px; overflow: hidden; text-overflow: ellipsis; \">&quot;AC=1;AF=0.000199681;AN=5008;NS=2504;DP=9676;EAS_AF=0;AMR_AF=0;AFR_AF=0.0008;EUR_AF=0;SAS_AF=0;AA=.|||;VT=SNP&quot;</td><td style=\"white-space: nowrap; max-width: 500px; overflow: hidden; text-overflow: ellipsis; \">[]</td></tr>\n",
       "<tr><td style=\"white-space: nowrap; max-width: 500px; overflow: hidden; text-overflow: ellipsis; \">1:10511</td><td style=\"white-space: nowrap; max-width: 500px; overflow: hidden; text-overflow: ellipsis; \">[&quot;G&quot;,&quot;A&quot;]</td><td style=\"white-space: nowrap; max-width: 500px; overflow: hidden; text-overflow: ellipsis; \">&quot;.&quot;</td><td style=\"white-space: nowrap; max-width: 500px; overflow: hidden; text-overflow: ellipsis; \">100</td><td style=\"white-space: nowrap; max-width: 500px; overflow: hidden; text-overflow: ellipsis; \">&quot;PASS&quot;</td><td style=\"white-space: nowrap; max-width: 500px; overflow: hidden; text-overflow: ellipsis; \">&quot;AC=1;AF=0.000199681;AN=5008;NS=2504;DP=9869;EAS_AF=0;AMR_AF=0.0014;AFR_AF=0;EUR_AF=0;SAS_AF=0;AA=.|||;VT=SNP&quot;</td><td style=\"white-space: nowrap; max-width: 500px; overflow: hidden; text-overflow: ellipsis; \">[]</td></tr>\n",
       "<tr><td style=\"white-space: nowrap; max-width: 500px; overflow: hidden; text-overflow: ellipsis; \">1:10539</td><td style=\"white-space: nowrap; max-width: 500px; overflow: hidden; text-overflow: ellipsis; \">[&quot;C&quot;,&quot;A&quot;]</td><td style=\"white-space: nowrap; max-width: 500px; overflow: hidden; text-overflow: ellipsis; \">&quot;.&quot;</td><td style=\"white-space: nowrap; max-width: 500px; overflow: hidden; text-overflow: ellipsis; \">100</td><td style=\"white-space: nowrap; max-width: 500px; overflow: hidden; text-overflow: ellipsis; \">&quot;PASS&quot;</td><td style=\"white-space: nowrap; max-width: 500px; overflow: hidden; text-overflow: ellipsis; \">&quot;AC=3;AF=0.000599042;AN=5008;NS=2504;DP=9203;EAS_AF=0;AMR_AF=0.0014;AFR_AF=0;EUR_AF=0.001;SAS_AF=0.001;AA=.|||;VT=SNP&quot;</td><td style=\"white-space: nowrap; max-width: 500px; overflow: hidden; text-overflow: ellipsis; \">[]</td></tr>\n",
       "<tr><td style=\"white-space: nowrap; max-width: 500px; overflow: hidden; text-overflow: ellipsis; \">1:10542</td><td style=\"white-space: nowrap; max-width: 500px; overflow: hidden; text-overflow: ellipsis; \">[&quot;C&quot;,&quot;T&quot;]</td><td style=\"white-space: nowrap; max-width: 500px; overflow: hidden; text-overflow: ellipsis; \">&quot;.&quot;</td><td style=\"white-space: nowrap; max-width: 500px; overflow: hidden; text-overflow: ellipsis; \">100</td><td style=\"white-space: nowrap; max-width: 500px; overflow: hidden; text-overflow: ellipsis; \">&quot;PASS&quot;</td><td style=\"white-space: nowrap; max-width: 500px; overflow: hidden; text-overflow: ellipsis; \">&quot;AC=1;AF=0.000199681;AN=5008;NS=2504;DP=9007;EAS_AF=0.001;AMR_AF=0;AFR_AF=0;EUR_AF=0;SAS_AF=0;AA=.|||;VT=SNP&quot;</td><td style=\"white-space: nowrap; max-width: 500px; overflow: hidden; text-overflow: ellipsis; \">[]</td></tr>\n",
       "<tr><td style=\"white-space: nowrap; max-width: 500px; overflow: hidden; text-overflow: ellipsis; \">1:10579</td><td style=\"white-space: nowrap; max-width: 500px; overflow: hidden; text-overflow: ellipsis; \">[&quot;C&quot;,&quot;A&quot;]</td><td style=\"white-space: nowrap; max-width: 500px; overflow: hidden; text-overflow: ellipsis; \">&quot;.&quot;</td><td style=\"white-space: nowrap; max-width: 500px; overflow: hidden; text-overflow: ellipsis; \">100</td><td style=\"white-space: nowrap; max-width: 500px; overflow: hidden; text-overflow: ellipsis; \">&quot;PASS&quot;</td><td style=\"white-space: nowrap; max-width: 500px; overflow: hidden; text-overflow: ellipsis; \">&quot;AC=1;AF=0.000199681;AN=5008;NS=2504;DP=5502;EAS_AF=0;AMR_AF=0;AFR_AF=0.0008;EUR_AF=0;SAS_AF=0;AA=.|||;VT=SNP&quot;</td><td style=\"white-space: nowrap; max-width: 500px; overflow: hidden; text-overflow: ellipsis; \">[]</td></tr>\n",
       "<tr><td style=\"white-space: nowrap; max-width: 500px; overflow: hidden; text-overflow: ellipsis; \">1:10616</td><td style=\"white-space: nowrap; max-width: 500px; overflow: hidden; text-overflow: ellipsis; \">[&quot;CCGCCGTTGCAAAGGCGCGCCG&quot;,&quot;C&quot;]</td><td style=\"white-space: nowrap; max-width: 500px; overflow: hidden; text-overflow: ellipsis; \">&quot;.&quot;</td><td style=\"white-space: nowrap; max-width: 500px; overflow: hidden; text-overflow: ellipsis; \">100</td><td style=\"white-space: nowrap; max-width: 500px; overflow: hidden; text-overflow: ellipsis; \">&quot;PASS&quot;</td><td style=\"white-space: nowrap; max-width: 500px; overflow: hidden; text-overflow: ellipsis; \">&quot;AC=4973;AF=0.993011;AN=5008;NS=2504;DP=2365;EAS_AF=0.9911;AMR_AF=0.9957;AFR_AF=0.9894;EUR_AF=0.994;SAS_AF=0.9969;VT=INDEL&quot;</td><td style=\"white-space: nowrap; max-width: 500px; overflow: hidden; text-overflow: ellipsis; \">[]</td></tr>\n",
       "<tr><td style=\"white-space: nowrap; max-width: 500px; overflow: hidden; text-overflow: ellipsis; \">1:10642</td><td style=\"white-space: nowrap; max-width: 500px; overflow: hidden; text-overflow: ellipsis; \">[&quot;G&quot;,&quot;A&quot;]</td><td style=\"white-space: nowrap; max-width: 500px; overflow: hidden; text-overflow: ellipsis; \">&quot;.&quot;</td><td style=\"white-space: nowrap; max-width: 500px; overflow: hidden; text-overflow: ellipsis; \">100</td><td style=\"white-space: nowrap; max-width: 500px; overflow: hidden; text-overflow: ellipsis; \">&quot;PASS&quot;</td><td style=\"white-space: nowrap; max-width: 500px; overflow: hidden; text-overflow: ellipsis; \">&quot;AC=21;AF=0.00419329;AN=5008;NS=2504;DP=1360;EAS_AF=0.003;AMR_AF=0.0014;AFR_AF=0.0129;EUR_AF=0;SAS_AF=0;AA=.|||;VT=SNP&quot;</td><td style=\"white-space: nowrap; max-width: 500px; overflow: hidden; text-overflow: ellipsis; \">[]</td></tr>\n",
       "</tbody></table><p style=\"background: #fdd; padding: 0.4em;\">showing top 10 rows</p>\n"
      ],
      "text/plain": [
       "+---------------+--------------------------------+------+-------+---------+\n",
       "| locus         | alleles                        | rsid |  qual | filters |\n",
       "+---------------+--------------------------------+------+-------+---------+\n",
       "| locus<GRCh37> | array<str>                     | str  | int32 | str     |\n",
       "+---------------+--------------------------------+------+-------+---------+\n",
       "| 1:10235       | [\"T\",\"TA\"]                     | \".\"  |   100 | \"PASS\"  |\n",
       "| 1:10352       | [\"T\",\"TA\"]                     | \".\"  |   100 | \"PASS\"  |\n",
       "| 1:10505       | [\"A\",\"T\"]                      | \".\"  |   100 | \"PASS\"  |\n",
       "| 1:10506       | [\"C\",\"G\"]                      | \".\"  |   100 | \"PASS\"  |\n",
       "| 1:10511       | [\"G\",\"A\"]                      | \".\"  |   100 | \"PASS\"  |\n",
       "| 1:10539       | [\"C\",\"A\"]                      | \".\"  |   100 | \"PASS\"  |\n",
       "| 1:10542       | [\"C\",\"T\"]                      | \".\"  |   100 | \"PASS\"  |\n",
       "| 1:10579       | [\"C\",\"A\"]                      | \".\"  |   100 | \"PASS\"  |\n",
       "| 1:10616       | [\"CCGCCGTTGCAAAGGCGCGCCG\",\"C\"] | \".\"  |   100 | \"PASS\"  |\n",
       "| 1:10642       | [\"G\",\"A\"]                      | \".\"  |   100 | \"PASS\"  |\n",
       "+---------------+--------------------------------+------+-------+---------+\n",
       "\n",
       "+------------------------------------------------------------------------------+\n",
       "| info.info                                                                    |\n",
       "+------------------------------------------------------------------------------+\n",
       "| str                                                                          |\n",
       "+------------------------------------------------------------------------------+\n",
       "| \"AC=6;AF=0.00119808;AN=5008;NS=2504;DP=78015;EAS_AF=0;AMR_AF=0.0014;AFR_A... |\n",
       "| \"AC=2191;AF=0.4375;AN=5008;NS=2504;DP=88915;EAS_AF=0.4306;AMR_AF=0.4107;A... |\n",
       "| \"AC=1;AF=0.000199681;AN=5008;NS=2504;DP=9632;EAS_AF=0;AMR_AF=0;AFR_AF=0.0... |\n",
       "| \"AC=1;AF=0.000199681;AN=5008;NS=2504;DP=9676;EAS_AF=0;AMR_AF=0;AFR_AF=0.0... |\n",
       "| \"AC=1;AF=0.000199681;AN=5008;NS=2504;DP=9869;EAS_AF=0;AMR_AF=0.0014;AFR_A... |\n",
       "| \"AC=3;AF=0.000599042;AN=5008;NS=2504;DP=9203;EAS_AF=0;AMR_AF=0.0014;AFR_A... |\n",
       "| \"AC=1;AF=0.000199681;AN=5008;NS=2504;DP=9007;EAS_AF=0.001;AMR_AF=0;AFR_AF... |\n",
       "| \"AC=1;AF=0.000199681;AN=5008;NS=2504;DP=5502;EAS_AF=0;AMR_AF=0;AFR_AF=0.0... |\n",
       "| \"AC=4973;AF=0.993011;AN=5008;NS=2504;DP=2365;EAS_AF=0.9911;AMR_AF=0.9957;... |\n",
       "| \"AC=21;AF=0.00419329;AN=5008;NS=2504;DP=1360;EAS_AF=0.003;AMR_AF=0.0014;A... |\n",
       "+------------------------------------------------------------------------------+\n",
       "\n",
       "+-----------------+\n",
       "| entries         |\n",
       "+-----------------+\n",
       "| array<struct{}> |\n",
       "+-----------------+\n",
       "| []              |\n",
       "| []              |\n",
       "| []              |\n",
       "| []              |\n",
       "| []              |\n",
       "| []              |\n",
       "| []              |\n",
       "| []              |\n",
       "| []              |\n",
       "| []              |\n",
       "+-----------------+\n",
       "showing top 10 rows"
      ]
     },
     "metadata": {},
     "output_type": "display_data"
    }
   ],
   "source": [
    "t = consumer.create_hail_table(rows=rows_hail)\n",
    "t.show()"
   ]
  },
  {
   "cell_type": "markdown",
   "id": "18ffb6e8",
   "metadata": {},
   "source": [
    "# Create MatrixTable from Table"
   ]
  },
  {
   "cell_type": "code",
   "execution_count": null,
   "id": "104a11bc",
   "metadata": {},
   "outputs": [],
   "source": [
    "mt_from_table = consumer.combine_hail_matrix_table_and_table(mt=mt, table=t)\n",
    "mt_from_table.show()"
   ]
  },
  {
   "cell_type": "code",
   "execution_count": null,
   "id": "829ef626",
   "metadata": {},
   "outputs": [],
   "source": [
    "mt_from_table.count()"
   ]
  }
 ],
 "metadata": {
  "kernelspec": {
   "display_name": "hail",
   "language": "python",
   "name": "python3"
  },
  "language_info": {
   "codemirror_mode": {
    "name": "ipython",
    "version": 3
   },
   "file_extension": ".py",
   "mimetype": "text/x-python",
   "name": "python",
   "nbconvert_exporter": "python",
   "pygments_lexer": "ipython3",
   "version": "3.12.11"
  }
 },
 "nbformat": 4,
 "nbformat_minor": 5
}
